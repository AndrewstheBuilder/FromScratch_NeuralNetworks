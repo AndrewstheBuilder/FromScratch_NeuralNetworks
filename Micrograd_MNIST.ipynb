{
  "nbformat": 4,
  "nbformat_minor": 0,
  "metadata": {
    "colab": {
      "provenance": [],
      "authorship_tag": "ABX9TyN2/zZBeZqpfgORAYsJEYaU",
      "include_colab_link": true
    },
    "kernelspec": {
      "name": "python3",
      "display_name": "Python 3"
    },
    "language_info": {
      "name": "python"
    }
  },
  "cells": [
    {
      "cell_type": "markdown",
      "metadata": {
        "id": "view-in-github",
        "colab_type": "text"
      },
      "source": [
        "<a href=\"https://colab.research.google.com/github/AndrewstheBuilder/FromScratch_NeuralNetworks/blob/main/Micrograd_MNIST.ipynb\" target=\"_parent\"><img src=\"https://colab.research.google.com/assets/colab-badge.svg\" alt=\"Open In Colab\"/></a>"
      ]
    },
    {
      "cell_type": "markdown",
      "source": [
        "### MNIST using micrograd_andrews module"
      ],
      "metadata": {
        "id": "cww1kBB3myu5"
      }
    },
    {
      "cell_type": "code",
      "execution_count": 1,
      "metadata": {
        "id": "V3k6RqFdmtlM",
        "outputId": "b9efb1b9-4b31-4a64-a6d0-5420cad18fc1",
        "colab": {
          "base_uri": "https://localhost:8080/"
        }
      },
      "outputs": [
        {
          "output_type": "stream",
          "name": "stdout",
          "text": [
            "Collecting micrograd_andrews\n",
            "  Downloading micrograd_andrews-0.1.1-py2.py3-none-any.whl (5.1 kB)\n",
            "Installing collected packages: micrograd_andrews\n",
            "Successfully installed micrograd_andrews-0.1.1\n"
          ]
        }
      ],
      "source": [
        "pip install micrograd_andrews"
      ]
    },
    {
      "cell_type": "code",
      "source": [
        "from micrograd_andrews.engine import Value\n",
        "from micrograd_andrews.nn import Neuron, Layer, MLP"
      ],
      "metadata": {
        "id": "kCrO58at6U-b"
      },
      "execution_count": 2,
      "outputs": []
    }
  ]
}