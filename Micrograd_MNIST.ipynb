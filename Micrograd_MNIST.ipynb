{
  "nbformat": 4,
  "nbformat_minor": 0,
  "metadata": {
    "colab": {
      "provenance": [],
      "authorship_tag": "ABX9TyNUXelxHNbq1seEeXWtVKzC",
      "include_colab_link": true
    },
    "kernelspec": {
      "name": "python3",
      "display_name": "Python 3"
    },
    "language_info": {
      "name": "python"
    }
  },
  "cells": [
    {
      "cell_type": "markdown",
      "metadata": {
        "id": "view-in-github",
        "colab_type": "text"
      },
      "source": [
        "<a href=\"https://colab.research.google.com/github/AndrewstheBuilder/FromScratch_NeuralNetworks/blob/main/Micrograd_MNIST.ipynb\" target=\"_parent\"><img src=\"https://colab.research.google.com/assets/colab-badge.svg\" alt=\"Open In Colab\"/></a>"
      ]
    },
    {
      "cell_type": "markdown",
      "source": [
        "### MNIST using micrograd_andrews module"
      ],
      "metadata": {
        "id": "cww1kBB3myu5"
      }
    },
    {
      "cell_type": "markdown",
      "source": [
        "#### Imports"
      ],
      "metadata": {
        "id": "Xmlx3Bs_8yXD"
      }
    },
    {
      "cell_type": "code",
      "execution_count": 1,
      "metadata": {
        "id": "V3k6RqFdmtlM",
        "colab": {
          "base_uri": "https://localhost:8080/"
        },
        "outputId": "c96ce624-7405-4a38-ddcb-95c56a04563d"
      },
      "outputs": [
        {
          "output_type": "stream",
          "name": "stdout",
          "text": [
            "Collecting micrograd_andrews\n",
            "  Downloading micrograd_andrews-0.1.1-py2.py3-none-any.whl (5.1 kB)\n",
            "Installing collected packages: micrograd_andrews\n",
            "Successfully installed micrograd_andrews-0.1.1\n"
          ]
        }
      ],
      "source": [
        "pip install micrograd_andrews"
      ]
    },
    {
      "cell_type": "code",
      "source": [
        "# Micrograd imports\n",
        "from micrograd_andrews.engine import Value\n",
        "from micrograd_andrews.nn import Neuron, Layer, MLP\n",
        "\n",
        "import random\n",
        "import numpy as np\n",
        "import matplotlib.pyplot as plt\n",
        "from matplotlib import pyplot\n",
        "%matplotlib inline\n",
        "from keras.datasets import mnist\n",
        "import copy\n",
        "\n",
        "np.random.seed(1337)\n",
        "random.seed(1337)"
      ],
      "metadata": {
        "id": "kCrO58at6U-b"
      },
      "execution_count": 2,
      "outputs": []
    },
    {
      "cell_type": "code",
      "source": [
        "# training and test data\n",
        "(train_X, train_y), (test_X, test_y) = mnist.load_data()\n",
        "\n",
        "print('X_train: ' + str(train_X.shape))\n",
        "print('Y_train: ' + str(train_y.shape))\n",
        "print('X_test:  '  + str(test_X.shape))\n",
        "print('Y_test:  '  + str(test_y.shape))\n",
        "\n",
        "print('train_x[1] raw',train_X[1][5][10:21])\n",
        "pyplot.imshow(train_X[0], cmap=pyplot.get_cmap('gray'))\n",
        "pyplot.show()\n",
        "\n",
        "# def findOne(x):\n",
        "#   if x == 1:\n",
        "#     return True\n",
        "#   else:\n",
        "#     return False\n",
        "\n",
        "# results = filter(findOne, train_y)\n",
        "\n",
        "# for y in results:\n",
        "#   print(y)\n",
        "\n",
        "# from matplotlib import pyplot\n",
        "# for i in range(9):\n",
        "#   pyplot.subplot(330 + 1 + i)\n",
        "#   pyplot.imshow(train_X[i], cmap=pyplot.get_cmap('gray'))\n",
        "#   pyplot.show()\n"
      ],
      "metadata": {
        "colab": {
          "base_uri": "https://localhost:8080/",
          "height": 555
        },
        "id": "XGmI8jW182Rj",
        "outputId": "8af318bd-3f3f-4c33-b068-d31189312955"
      },
      "execution_count": 3,
      "outputs": [
        {
          "output_type": "stream",
          "name": "stdout",
          "text": [
            "Downloading data from https://storage.googleapis.com/tensorflow/tf-keras-datasets/mnist.npz\n",
            "11490434/11490434 [==============================] - 1s 0us/step\n",
            "X_train: (60000, 28, 28)\n",
            "Y_train: (60000,)\n",
            "X_test:  (10000, 28, 28)\n",
            "Y_test:  (10000,)\n",
            "train_x[1] raw [  0   0   0   0  48 238 252 252 252 237   0]\n"
          ]
        },
        {
          "output_type": "display_data",
          "data": {
            "text/plain": [
              "<Figure size 640x480 with 1 Axes>"
            ],
            "image/png": "[encoded data removed]"
          },
          "metadata": {}
        }
      ]
    },
    {
      "cell_type": "code",
      "source": [
        "yy = copy.deepcopy(train_y)\n",
        "unique_integers = list(set(yy))\n",
        "unique_integers.sort()\n",
        "print(unique_integers)"
      ],
      "metadata": {
        "colab": {
          "base_uri": "https://localhost:8080/"
        },
        "id": "Tbgu3ZUc9DbQ",
        "outputId": "6761e806-26ea-4c9c-bfd1-3a8c86615336"
      },
      "execution_count": 4,
      "outputs": [
        {
          "output_type": "stream",
          "name": "stdout",
          "text": [
            "[0, 1, 2, 3, 4, 5, 6, 7, 8, 9]\n"
          ]
        }
      ]
    },
    {
      "cell_type": "markdown",
      "source": [
        "#### Train on MNIST"
      ],
      "metadata": {
        "id": "gvNrpHWQ9GR9"
      }
    },
    {
      "cell_type": "code",
      "source": [
        "def one_hot_encode(number, num_classes):\n",
        "    one_hot_vector = [0] * num_classes\n",
        "    one_hot_vector[number] = 1\n",
        "    return one_hot_vector\n",
        "# convert train_y to one hot encoding\n",
        "num_classes = len(unique_integers)\n",
        "yy_one = [one_hot_encode(num, num_classes) for num in yy]\n",
        "print(yy_one[2])\n",
        "print(yy[2])"
      ],
      "metadata": {
        "id": "VYiY7GSkHKSR",
        "outputId": "c32dd11d-f59f-4de9-a432-a13a6e39cea1",
        "colab": {
          "base_uri": "https://localhost:8080/"
        }
      },
      "execution_count": 5,
      "outputs": [
        {
          "output_type": "stream",
          "name": "stdout",
          "text": [
            "[0, 0, 0, 0, 1, 0, 0, 0, 0, 0]\n",
            "4\n"
          ]
        }
      ]
    },
    {
      "cell_type": "markdown",
      "source": [
        "### Draft 1 Gradient Descent for MNIST\n",
        "- It seems like this draft the gradients are not getting through to the parameters somehow. Its being stopped!!"
      ],
      "metadata": {
        "id": "ptGkUKlIgLt0"
      }
    },
    {
      "cell_type": "code",
      "source": [
        "# define the MLP model\n",
        "in_inputs=28*28\n",
        "output_dim = len(unique_integers)\n",
        "model = MLP(in_inputs, [2,2,output_dim])\n",
        "\n",
        "# forward the model to get scores\n",
        "limit_x=5\n",
        "# reshape here to flatten the 2D [28,28] into 1D -> 28*28\n",
        "inputs = train_X[:limit_x].reshape(limit_x,-1)\n",
        "scores = list(map(model, inputs))\n",
        "expected_outputs = yy_one[:limit_x]\n",
        "\n",
        "iterations = 10\n",
        "for iter in range(iterations):\n",
        "  # Begin gradient descent iterations\n",
        "  # Get probabilities of each output\n",
        "  probs_predicted = []\n",
        "  for i in range(len(scores)):\n",
        "      total = sum(scores[i])\n",
        "      probs_predicted.append([])\n",
        "      if total.data == 0:\n",
        "          print(f\"Alert: Sum of scores at index {i} is zero.\")\n",
        "          # layer_num = 0\n",
        "          # for layer in model.layers:\n",
        "            # print(f'layer {layer_num}')\n",
        "            # print(layer.parameters())\n",
        "            # print(\"len of parameters:\",len(layer.parameters()))\n",
        "            # layer_num += 1\n",
        "          # You can also raise an exception if needed\n",
        "          # raise ValueError(f\"Sum of scores at index {i} is zero.\")\n",
        "          # How can I log the parameters if my model is fing up?\n",
        "          # for p in model.parameters():\n",
        "          #   print('p',p)\n",
        "      for j in range(len(scores[i])):\n",
        "          if total.data == 0:\n",
        "              probs_predicted[i].append(Value(0.0))\n",
        "          else:\n",
        "              probs_predicted[i].append(scores[i][j] / total)\n",
        "\n",
        "  # probs = [Value(0.0) if sum(scores[i]).data == 0 else scores[i][j]/sum(scores[i]) for i in range(len(scores)) for j in range(len(scores[i]))]\n",
        "  # Why do I get all zeros as the outputs for certain inputs??\n",
        "    # its because of relu()\n",
        "    # Solution: I think it will work itself out once I start training it\n",
        "  # print(probs_predicted)\n",
        "  # print(expected_outputs)\n",
        "  # print(np.array(probs_predicted).shape)\n",
        "  # print(len(probs_predicted))\n",
        "\n",
        "  # Mean Squared Error(MSE) Loss\n",
        "    # Gain an intuition for how this will back propagate to help you update your parameters\n",
        "  losses = []\n",
        "  for yi_one, probs in zip(yy_one, probs_predicted):\n",
        "    loss = []\n",
        "    for k in range(len(yi_one)):\n",
        "      # (actual-expected)**2\n",
        "      loss.append((yi_one[i]-probs[i])**2)\n",
        "    losses.append(loss)\n",
        "  # print('losses',losses)\n",
        "  # print('losses shape',np.array(losses).shape)\n",
        "  # losses = [(yi_one-probs)**2 for yi_one, probs in zip(yy_one, probs_predicted)]\n",
        "\n",
        "  # Back propagation\n",
        "    # take (sum_of_each_example/num_classes)\n",
        "    # then data_loss = sum across all the examples / num_of_examples\n",
        "    # data_loss.backward()\n",
        "  data_loss = None\n",
        "  data_loss = [sum(loss)/num_classes for loss in losses ]\n",
        "  data_loss = sum(data_loss)/limit_x\n",
        "  # print(data_loss)\n",
        "  data_loss.backward()\n",
        "\n",
        "  # Update parameters\n",
        "  for p in model.parameters():\n",
        "    p -= p.grad"
      ],
      "metadata": {
        "id": "3lRRbGK187eI",
        "colab": {
          "base_uri": "https://localhost:8080/"
        },
        "outputId": "794743cc-5f7c-49e0-d938-1069f626cb5e"
      },
      "execution_count": 6,
      "outputs": [
        {
          "output_type": "stream",
          "name": "stdout",
          "text": [
            "Alert: Sum of scores at index 0 is zero.\n",
            "Alert: Sum of scores at index 1 is zero.\n",
            "Alert: Sum of scores at index 2 is zero.\n",
            "Alert: Sum of scores at index 3 is zero.\n",
            "Alert: Sum of scores at index 0 is zero.\n",
            "Alert: Sum of scores at index 1 is zero.\n",
            "Alert: Sum of scores at index 2 is zero.\n",
            "Alert: Sum of scores at index 3 is zero.\n",
            "Alert: Sum of scores at index 0 is zero.\n",
            "Alert: Sum of scores at index 1 is zero.\n",
            "Alert: Sum of scores at index 2 is zero.\n",
            "Alert: Sum of scores at index 3 is zero.\n",
            "Alert: Sum of scores at index 0 is zero.\n",
            "Alert: Sum of scores at index 1 is zero.\n",
            "Alert: Sum of scores at index 2 is zero.\n",
            "Alert: Sum of scores at index 3 is zero.\n",
            "Alert: Sum of scores at index 0 is zero.\n",
            "Alert: Sum of scores at index 1 is zero.\n",
            "Alert: Sum of scores at index 2 is zero.\n",
            "Alert: Sum of scores at index 3 is zero.\n",
            "Alert: Sum of scores at index 0 is zero.\n",
            "Alert: Sum of scores at index 1 is zero.\n",
            "Alert: Sum of scores at index 2 is zero.\n",
            "Alert: Sum of scores at index 3 is zero.\n",
            "Alert: Sum of scores at index 0 is zero.\n",
            "Alert: Sum of scores at index 1 is zero.\n",
            "Alert: Sum of scores at index 2 is zero.\n",
            "Alert: Sum of scores at index 3 is zero.\n",
            "Alert: Sum of scores at index 0 is zero.\n",
            "Alert: Sum of scores at index 1 is zero.\n",
            "Alert: Sum of scores at index 2 is zero.\n",
            "Alert: Sum of scores at index 3 is zero.\n",
            "Alert: Sum of scores at index 0 is zero.\n",
            "Alert: Sum of scores at index 1 is zero.\n",
            "Alert: Sum of scores at index 2 is zero.\n",
            "Alert: Sum of scores at index 3 is zero.\n",
            "Alert: Sum of scores at index 0 is zero.\n",
            "Alert: Sum of scores at index 1 is zero.\n",
            "Alert: Sum of scores at index 2 is zero.\n",
            "Alert: Sum of scores at index 3 is zero.\n"
          ]
        }
      ]
    },
    {
      "cell_type": "markdown",
      "source": [
        "### Draft 2 Gradient Descent for MNIST"
      ],
      "metadata": {
        "id": "6Wp00cBXgS_r"
      }
    },
    {
      "cell_type": "code",
      "source": [
        "# define the MLP model\n",
        "in_inputs=28*28\n",
        "output_dim = len(unique_integers)\n",
        "model = MLP(in_inputs, [2,2,output_dim])\n",
        "\n",
        "# limit the training set to 5 examples for now\n",
        "limit_x=5\n",
        "# reshape here to flatten the 2D [28,28] into 1D -> 28*28\n",
        "inputs = train_X[:limit_x].reshape(limit_x,-1)\n",
        "expected_outputs = yy_one[:limit_x]\n",
        "\n",
        "# Begin gradient descent iterations\n",
        "iterations = 10\n",
        "for iter in range(iterations):\n",
        "  # forward the model to get scores\n",
        "  scores = list(map(model, inputs))\n",
        "  print('scores',scores)\n",
        "  print('scores.shape',np.array(scores).shape)\n",
        "  # Get probabilities of each output\n",
        "  probs_predicted = []\n",
        "  for i in range(len(scores)):\n",
        "      total = sum(scores[i])\n",
        "      probs_predicted.append([])\n",
        "      if total.data == 0:\n",
        "          print(f\"Alert: Sum of scores at index {i} is zero.\")\n",
        "          # layer_num = 0\n",
        "          # for layer in model.layers:\n",
        "            # print(f'layer {layer_num}')\n",
        "            # print(layer.parameters())\n",
        "            # print(\"len of parameters:\",len(layer.parameters()))\n",
        "            # layer_num += 1\n",
        "          # You can also raise an exception if needed\n",
        "          # raise ValueError(f\"Sum of scores at index {i} is zero.\")\n",
        "          # How can I log the parameters if my model is fing up?\n",
        "          # for p in model.parameters():\n",
        "          #   print('p',p)\n",
        "      for j in range(len(scores[i])):\n",
        "          if total.data == 0:\n",
        "              probs_predicted[i].append(Value(0.0))\n",
        "          else:\n",
        "              probs_predicted[i].append(scores[i][j] / total)\n",
        "\n",
        "  # probs = [Value(0.0) if sum(scores[i]).data == 0 else scores[i][j]/sum(scores[i]) for i in range(len(scores)) for j in range(len(scores[i]))]\n",
        "  # Why do I get all zeros as the outputs for certain inputs??\n",
        "    # its because of relu()\n",
        "    # Solution: I think it will work itself out once I start training it\n",
        "  print(probs_predicted)\n",
        "  # print(expected_outputs)\n",
        "  # print(np.array(probs_predicted).shape)\n",
        "  # print(len(probs_predicted))\n",
        "\n",
        "  # Mean Squared Error(MSE) Loss\n",
        "    # Gain an intuition for how this will back propagate to help you update your parameters\n",
        "  losses = []\n",
        "  for yi_one, probs in zip(yy_one, probs_predicted):\n",
        "    loss = []\n",
        "    for k in range(len(yi_one)):\n",
        "      # (actual-expected)**2\n",
        "      loss.append((yi_one[i]-probs[i])**2)\n",
        "    losses.append(loss)\n",
        "  # Calculate total loss\n",
        "    # take (sum_of_each_example/num_classes)\n",
        "    # then data_loss = sum across all the examples / num_of_examples\n",
        "    # data_loss.backward()\n",
        "  data_loss = [sum(loss)/num_classes for loss in losses ]\n",
        "  data_loss = sum(data_loss)/limit_x\n",
        "  # print('losses',losses)\n",
        "  # print('losses shape',np.array(losses).shape)\n",
        "  # losses = [(yi_one-probs)**2 for yi_one, probs in zip(yy_one, probs_predicted)]\n",
        "\n",
        "  # Back propagation\n",
        "  model.zero_grad()\n",
        "  data_loss.backward()\n",
        "  print('total loss:',data_loss)\n",
        "\n",
        "  # Update parameters\n",
        "  for p in model.parameters():\n",
        "    # print('p.grad',p.grad)\n",
        "    # print('p before',p)\n",
        "    p.data -= p.grad\n",
        "    # print('p after',p)\n",
        "    # print()"
      ],
      "metadata": {
        "id": "9pYEsJfXgSXB",
        "outputId": "f971f638-d1b4-4b20-dec6-a1c88df5fb20",
        "colab": {
          "base_uri": "https://localhost:8080/"
        }
      },
      "execution_count": 54,
      "outputs": [
        {
          "output_type": "stream",
          "name": "stdout",
          "text": [
            "scores [[Value(data=-778.8917518622785, grad=0), Value(data=-655.0486942507504, grad=0), Value(data=453.3765729460656, grad=0), Value(data=32.078337671535216, grad=0), Value(data=760.7112832857704, grad=0), Value(data=-136.4345982930819, grad=0), Value(data=-306.4668874276014, grad=0), Value(data=778.0734173517952, grad=0), Value(data=-599.5965656185375, grad=0), Value(data=750.1866725298548, grad=0)], [Value(data=-1124.4942680840063, grad=0), Value(data=-945.7007347166322, grad=0), Value(data=654.5445581397888, grad=0), Value(data=46.31183570124996, grad=0), Value(data=1098.2469331283016, grad=0), Value(data=-196.97207395263553, grad=0), Value(data=-442.4494898628982, grad=0), Value(data=1123.3128298877311, grad=0), Value(data=-865.6439095533252, grad=0), Value(data=1083.0524411587232, grad=0)], [Value(data=-251.54506800292296, grad=0), Value(data=-359.74445114838386, grad=0), Value(data=203.95601871229817, grad=0), Value(data=-203.43641864052992, grad=0), Value(data=269.0091426547573, grad=0), Value(data=168.8060881964037, grad=0), Value(data=204.96664497978958, grad=0), Value(data=155.51828225769034, grad=0), Value(data=-86.22249582523852, grad=0), Value(data=255.84498209813933, grad=0)], [Value(data=0.0, grad=0), Value(data=0.0, grad=0), Value(data=0.0, grad=0), Value(data=0.0, grad=0), Value(data=0.0, grad=0), Value(data=0.0, grad=0), Value(data=0.0, grad=0), Value(data=0.0, grad=0), Value(data=0.0, grad=0), Value(data=0.0, grad=0)], [Value(data=-774.0992507696141, grad=0), Value(data=-651.0181963343978, grad=0), Value(data=450.58695845080683, grad=0), Value(data=31.88096047762589, grad=0), Value(data=756.0306461527765, grad=0), Value(data=-135.59511968795675, grad=0), Value(data=-304.5812044821207, grad=0), Value(data=773.2859514505118, grad=0), Value(data=-595.9072632359995, grad=0), Value(data=745.5707930585347, grad=0)]]\n",
            "scores.shape (5, 10)\n",
            "Alert: Sum of scores at index 3 is zero.\n",
            "[[Value(data=-2.6138378402947957, grad=0), Value(data=-2.1982400765890406, grad=0), Value(data=1.5214602535412878, grad=0), Value(data=0.10764984050625624, grad=0), Value(data=2.5528270559259174, grad=0), Value(data=-0.4578529877755509, grad=0), Value(data=-1.028454525600459, grad=0), Value(data=2.6110916387791088, grad=0), Value(data=-2.0121514810977885, grad=0), Value(data=2.517508122605065, grad=0)], [Value(data=-2.613837840294796, grad=0), Value(data=-2.198240076589041, grad=0), Value(data=1.521460253541288, grad=0), Value(data=0.10764984050625626, grad=0), Value(data=2.5528270559259174, grad=0), Value(data=-0.457852987775551, grad=0), Value(data=-1.0284545256004591, grad=0), Value(data=2.611091638779109, grad=0), Value(data=-2.012151481097789, grad=0), Value(data=2.5175081226050655, grad=0)], [Value(data=-0.7043067298571118, grad=0), Value(data=-1.0072566319193965, grad=0), Value(data=0.5710610735260587, grad=0), Value(data=-0.5696062335234856, grad=0), Value(data=0.7532047877902969, grad=0), Value(data=0.4726439874233542, grad=0), Value(data=0.57389074888887, grad=0), Value(data=0.43543915879374906, grad=0), Value(data=-0.24141631778718306, grad=0), Value(data=0.7163461566648485, grad=0)], [Value(data=0.0, grad=0), Value(data=0.0, grad=0), Value(data=0.0, grad=0), Value(data=0.0, grad=0), Value(data=0.0, grad=0), Value(data=0.0, grad=0), Value(data=0.0, grad=0), Value(data=0.0, grad=0), Value(data=0.0, grad=0), Value(data=0.0, grad=0)], [Value(data=-2.6138378402947935, grad=0), Value(data=-2.1982400765890393, grad=0), Value(data=1.5214602535412864, grad=0), Value(data=0.10764984050625614, grad=0), Value(data=2.552827055925915, grad=0), Value(data=-0.4578529877755505, grad=0), Value(data=-1.0284545256004578, grad=0), Value(data=2.611091638779107, grad=0), Value(data=-2.0121514810977867, grad=0), Value(data=2.517508122605063, grad=0)]]\n",
            "total loss: Value(data=3.9223371618343563, grad=1)\n",
            "scores [[Value(data=18406.44900103664, grad=0), Value(data=18530.292083696804, grad=0), Value(data=19638.717575084935, grad=0), Value(data=19217.419254598157, grad=0), Value(data=12474.885070092725, grad=0), Value(data=19048.906284549932, grad=0), Value(data=18878.873961024492, grad=0), Value(data=19963.414485164205, grad=0), Value(data=18585.744223544825, grad=0), Value(data=19935.52773470186, grad=0)], [Value(data=26573.57325177716, grad=0), Value(data=26752.36681019317, grad=0), Value(data=28352.612327240906, grad=0), Value(data=27744.379519590122, grad=0), Value(data=18010.116122033032, grad=0), Value(data=27501.095575852625, grad=0), Value(data=27255.618125551442, grad=0), Value(data=28821.38066466239, grad=0), Value(data=26832.423646572282, grad=0), Value(data=28781.120270292977, grad=0)], [Value(data=6315.440776065741, grad=0), Value(data=6224.34818004473, grad=0), Value(data=6807.984748991379, grad=0), Value(data=6409.802671987123, grad=0), Value(data=4335.248531084451, grad=0), Value(data=6739.209242699009, grad=0), Value(data=6761.65220478579, grad=0), Value(data=6783.9504842669785, grad=0), Value(data=6477.543744347391, grad=0), Value(data=6873.822310868859, grad=0)], [Value(data=0.027124018621011263, grad=0), Value(data=0.02714906725600752, grad=0), Value(data=0.02737325858714965, grad=0), Value(data=0.027288046336067632, grad=0), Value(data=0.01695240176132431, grad=0), Value(data=0.027253962721640365, grad=0), Value(data=0.02721957180114591, grad=0), Value(data=0.027438932133142573, grad=0), Value(data=0.02716028306540905, grad=0), Value(data=0.027433291729023437, grad=0)], [Value(data=18293.194756468176, grad=0), Value(data=18416.275835952027, grad=0), Value(data=19517.881214928537, grad=0), Value(data=19099.175131743115, grad=0), Value(data=12398.127524590394, grad=0), Value(data=18931.699017493924, grad=0), Value(data=18762.71289830884, grad=0), Value(data=19840.58027360178, grad=0), Value(data=18471.38678026623, grad=0), Value(data=19812.8651095694, grad=0)]]\n",
            "scores.shape (5, 10)\n",
            "[[Value(data=0.0996665914569108, grad=0), Value(data=0.10033717261700094, grad=0), Value(data=0.10633903590982752, grad=0), Value(data=0.10405780460947874, grad=0), Value(data=0.067548568096042, grad=0), Value(data=0.10314534651720678, grad=0), Value(data=0.10222466148326433, grad=0), Value(data=0.10809719329707639, grad=0), Value(data=0.1006374329098653, grad=0), Value(data=0.10794619310332718, grad=0)], [Value(data=0.09966658983896624, grad=0), Value(data=0.10033717125019236, grad=0), Value(data=0.10633903679074683, grad=0), Value(data=0.10405780463606551, grad=0), Value(data=0.06754856938055083, grad=0), Value(data=0.1031453462020734, grad=0), Value(data=0.1022246608233298, grad=0), Value(data=0.10809719483643444, grad=0), Value(data=0.1006374316555057, grad=0), Value(data=0.10794619458613491, grad=0)], [Value(data=0.09909837733468156, grad=0), Value(data=0.09766900307990319, grad=0), Value(data=0.10682710288427255, grad=0), Value(data=0.10057905162165641, grad=0), Value(data=0.06802630410235024, grad=0), Value(data=0.10574791596516239, grad=0), Value(data=0.10610007841973128, grad=0), Value(data=0.1064499705954786, grad=0), Value(data=0.10164200677994954, grad=0), Value(data=0.10786018921681423, grad=0)], [Value(data=0.10337179642557955, grad=0), Value(data=0.10346725876962785, grad=0), Value(data=0.10432166979798675, grad=0), Value(data=0.10399691911871269, grad=0), Value(data=0.0646069540167171, grad=0), Value(data=0.10386702374807265, grad=0), Value(data=0.10373595720952195, grad=0), Value(data=0.10457195691516442, grad=0), Value(data=0.10351000311302339, grad=0), Value(data=0.10455046088559343, grad=0)], [Value(data=0.09966659148950267, grad=0), Value(data=0.10033717264453393, grad=0), Value(data=0.10633903589208228, grad=0), Value(data=0.10405780460894319, grad=0), Value(data=0.06754856807016685, grad=0), Value(data=0.10314534652355482, grad=0), Value(data=0.10222466149655805, grad=0), Value(data=0.10809719326606755, grad=0), Value(data=0.10063743293513311, grad=0), Value(data=0.1079461930734575, grad=0)]]\n",
            "total loss: Value(data=0.1772874911355916, grad=1)\n",
            "scores [[Value(data=18405.03365578705, grad=0), Value(data=18528.867696375844, grad=0), Value(data=19637.21225904202, grad=0), Value(data=19215.94469852504, grad=0), Value(data=12474.945177507108, grad=0), Value(data=19047.44403200051, grad=0), Value(data=18877.424122930297, grad=0), Value(data=19961.885462245038, grad=0), Value(data=18584.31578753422, grad=0), Value(data=19934.000747859176, grad=0)], [Value(data=26572.12337539174, grad=0), Value(data=26750.90789171886, grad=0), Value(data=28351.072479887847, grad=0), Value(data=27742.870432266456, grad=0), Value(data=18010.647947445133, grad=0), Value(data=27499.598792076496, grad=0), Value(data=27254.13375625459, grad=0), Value(data=28819.817110387154, grad=0), Value(data=26830.960679400487, grad=0), Value(data=28779.558752098168, grad=0)], [Value(data=6311.772862488087, grad=0), Value(data=6220.601884995733, grad=0), Value(data=6804.1029068110975, grad=0), Value(data=6405.901001641651, grad=0), Value(data=4333.512064173099, grad=0), Value(data=6735.497350233723, grad=0), Value(data=6758.006407474381, grad=0), Value(data=6779.950041100217, grad=0), Value(data=6473.8812936955455, grad=0), Value(data=6869.867579262213, grad=0)], [Value(data=0.02976381177965148, grad=0), Value(data=0.02976381177965148, grad=0), Value(data=0.02976381177965148, grad=0), Value(data=0.02976381177965148, grad=0), Value(data=-0.07769152771140794, grad=0), Value(data=0.02976381177965148, grad=0), Value(data=0.02976381177965148, grad=0), Value(data=0.02976381177965148, grad=0), Value(data=0.02976381177965148, grad=0), Value(data=0.02976381177965148, grad=0)], [Value(data=18291.77989298151, grad=0), Value(data=18414.851930413854, grad=0), Value(data=19516.376380846217, grad=0), Value(data=19097.701057563012, grad=0), Value(data=12398.181092625855, grad=0), Value(data=18930.237246810484, grad=0), Value(data=18761.26354205335, grad=0), Value(data=19839.051732695298, grad=0), Value(data=18469.958826047314, grad=0), Value(data=19811.338604734927, grad=0)]]\n",
            "scores.shape (5, 10)\n",
            "[[Value(data=0.09966602758695425, grad=0), Value(data=0.10033660755634465, grad=0), Value(data=0.10633846019212098, grad=0), Value(data=0.10405723294238038, grad=0), Value(data=0.06755370587525271, grad=0), Value(data=0.10314477647029055, grad=0), Value(data=0.10222409307113822, grad=0), Value(data=0.10809661445754404, grad=0), Value(data=0.10063686731605972, grad=0), Value(data=0.10794561453191436, grad=0)], [Value(data=0.09966600959659905, grad=0), Value(data=0.10033658977825227, grad=0), Value(data=0.10633844431383235, grad=0), Value(data=0.10405721634200071, grad=0), Value(data=0.06755385656659327, grad=0), Value(data=0.10314475958108536, grad=0), Value(data=0.10222407589050338, grad=0), Value(data=0.10809659913577492, grad=0), Value(data=0.10063684963301045, grad=0), Value(data=0.10794559916234829, grad=0)], [Value(data=0.09909666066388878, grad=0), Value(data=0.09766524993099472, grad=0), Value(data=0.10682638484754428, grad=0), Value(data=0.10057449969071128, grad=0), Value(data=0.06803739359165514, grad=0), Value(data=0.10574925775379058, grad=0), Value(data=0.10610265646693158, grad=0), Value(data=0.10644717786567769, grad=0), Value(data=0.1016418099504853, grad=0), Value(data=0.10785890923832077, grad=0)], [Value(data=0.15650108829437426, grad=0), Value(data=0.15650108829437426, grad=0), Value(data=0.15650108829437426, grad=0), Value(data=0.15650108829437426, grad=0), Value(data=-0.40850979464936843, grad=0), Value(data=0.15650108829437426, grad=0), Value(data=0.15650108829437426, grad=0), Value(data=0.15650108829437426, grad=0), Value(data=0.15650108829437426, grad=0), Value(data=0.15650108829437426, grad=0)], [Value(data=0.09966602794936032, grad=0), Value(data=0.10033660791447475, grad=0), Value(data=0.10633846051198058, grad=0), Value(data=0.10405723327678613, grad=0), Value(data=0.06755370283965663, grad=0), Value(data=0.10314477681051454, grad=0), Value(data=0.10222409341723289, grad=0), Value(data=0.10809661476619285, grad=0), Value(data=0.10063686767227527, grad=0), Value(data=0.10794561484152602, grad=0)]]\n",
            "total loss: Value(data=0.20982501630995065, grad=1)\n",
            "scores [[Value(data=18405.3026469294, grad=0), Value(data=18529.13666577779, grad=0), Value(data=19637.48103386212, grad=0), Value(data=19216.21354730321, grad=0), Value(data=12477.229816892273, grad=0), Value(data=19047.712910360788, grad=0), Value(data=18877.693031139403, grad=0), Value(data=19962.15418006526, grad=0), Value(data=18584.584747201658, grad=0), Value(data=19934.269470574858, grad=0)], [Value(data=26572.357109004977, grad=0), Value(data=26751.14160153651, grad=0), Value(data=28351.305976729232, grad=0), Value(data=27743.10401005739, grad=0), Value(data=18013.410131714816, grad=0), Value(data=27499.832402246026, grad=0), Value(data=27254.367399094648, grad=0), Value(data=28820.050544840276, grad=0), Value(data=26831.194378563392, grad=0), Value(data=28779.79219190954, grad=0)], [Value(data=6309.833627311766, grad=0), Value(data=6218.591390387385, grad=0), Value(data=6802.043571714486, grad=0), Value(data=6403.785987634044, grad=0), Value(data=4334.0222664719695, grad=0), Value(data=6733.5657956138975, grad=0), Value(data=6756.129485182543, grad=0), Value(data=6777.79430361569, grad=0), Value(data=6471.962658008057, grad=0), Value(data=6867.757088107259, grad=0)], [Value(data=0.3807526387659462, grad=0), Value(data=0.3807526387659462, grad=0), Value(data=0.3807526387659462, grad=0), Value(data=0.3807526387659462, grad=0), Value(data=1.1324968404687192, grad=0), Value(data=0.3807526387659462, grad=0), Value(data=0.3807526387659462, grad=0), Value(data=0.3807526387659462, grad=0), Value(data=0.3807526387659462, grad=0), Value(data=0.3807526387659462, grad=0)], [Value(data=18292.049715224148, grad=0), Value(data=18415.12173324689, grad=0), Value(data=19516.646009958622, grad=0), Value(data=19097.9707527044, grad=0), Value(data=12400.459341806789, grad=0), Value(data=18930.50696836247, grad=0), Value(data=18761.53329025406, grad=0), Value(data=19839.321310918804, grad=0), Value(data=18470.22862018948, grad=0), Value(data=19811.60818732905, grad=0)]]\n",
            "scores.shape (5, 10)\n",
            "[[Value(data=0.09966494524104011, grad=0), Value(data=0.10033550801005611, grad=0), Value(data=0.10633720669832891, grad=0), Value(data=0.10405603796206099, grad=0), Value(data=0.06756435633335833, grad=0), Value(data=0.10314360489447714, grad=0), Value(data=0.10222294511085145, grad=0), Value(data=0.10809531586709992, grad=0), Value(data=0.1006357600681092, grad=0), Value(data=0.10794431981461791, grad=0)], [Value(data=0.09966506781503144, grad=0), Value(data=0.10033563567242308, grad=0), Value(data=0.10633737990288634, grad=0), Value(data=0.10405619385661563, grad=0), Value(data=0.06756298415652891, grad=0), Value(data=0.10314375386529191, grad=0), Value(data=0.10222308709550022, grad=0), Value(data=0.10809550241257078, grad=0), Value(data=0.10063589000885385, grad=0), Value(data=0.107944505214298, grad=0)], [Value(data=0.09909360739020996, grad=0), Value(data=0.09766068174791516, grad=0), Value(data=0.10682358283252288, grad=0), Value(data=0.10056909451983273, grad=0), Value(data=0.0680642194804071, grad=0), Value(data=0.10574816464233561, grad=0), Value(data=0.10610251905601015, grad=0), Value(data=0.1064427570303843, grad=0), Value(data=0.10163978395575884, grad=0), Value(data=0.10785558934462325, grad=0)], [Value(data=0.08351174410536731, grad=0), Value(data=0.08351174410536731, grad=0), Value(data=0.08351174410536731, grad=0), Value(data=0.08351174410536731, grad=0), Value(data=0.24839430305169413, grad=0), Value(data=0.08351174410536731, grad=0), Value(data=0.08351174410536731, grad=0), Value(data=0.08351174410536731, grad=0), Value(data=0.08351174410536731, grad=0), Value(data=0.08351174410536731, grad=0)], [Value(data=0.09966494277187862, grad=0), Value(data=0.10033550543839312, grad=0), Value(data=0.10633720320925248, grad=0), Value(data=0.10405603482168164, grad=0), Value(data=0.06756438397483532, grad=0), Value(data=0.10314360189357137, grad=0), Value(data=0.10222294225067678, grad=0), Value(data=0.10809531210928076, grad=0), Value(data=0.10063575745054996, grad=0), Value(data=0.10794431607987985, grad=0)]]\n",
            "total loss: Value(data=0.18877973477159507, grad=1)\n",
            "scores [[Value(data=18405.258563779764, grad=0), Value(data=18529.092779727136, grad=0), Value(data=19637.43891189494, grad=0), Value(data=19216.170754830513, grad=0), Value(data=12478.309727058264, grad=0), Value(data=19047.669849696005, grad=0), Value(data=18877.64969986445, grad=0), Value(data=19962.112574860334, grad=0), Value(data=18584.540949404298, grad=0), Value(data=19934.22782098756, grad=0)], [Value(data=26572.280845250454, grad=0), Value(data=26751.065553597822, grad=0), Value(data=28351.231860394397, grad=0), Value(data=27743.02915954469, grad=0), Value(data=18014.96958386998, grad=0), Value(data=27499.757258073263, grad=0), Value(data=27254.29195861411, grad=0), Value(data=28819.976994340323, grad=0), Value(data=26831.118427258687, grad=0), Value(data=28779.71859281258, grad=0)], [Value(data=6306.703358945283, grad=0), Value(data=6215.399219524544, grad=0), Value(data=6798.728749003401, grad=0), Value(data=6400.463402466567, grad=0), Value(data=4332.726723011163, grad=0), Value(data=6730.390797845966, grad=0), Value(data=6753.007831235684, grad=0), Value(data=6774.3834190679145, grad=0), Value(data=6468.833425264908, grad=0), Value(data=6864.381531125285, grad=0)], [Value(data=0.38616538985763627, grad=0), Value(data=0.38616538985763627, grad=0), Value(data=0.38616538985763627, grad=0), Value(data=0.38616538985763627, grad=0), Value(data=1.116122591043713, grad=0), Value(data=0.38616538985763627, grad=0), Value(data=0.38616538985763627, grad=0), Value(data=0.38616538985763627, grad=0), Value(data=0.38616538985763627, grad=0), Value(data=0.38616538985763627, grad=0)], [Value(data=18292.00296201979, grad=0), Value(data=18415.075155914412, grad=0), Value(data=19516.601006721943, grad=0), Value(data=19097.925151174088, grad=0), Value(data=12401.53048950847, grad=0), Value(data=18930.461127523733, grad=0), Value(data=18761.487207949234, grad=0), Value(data=19839.27676879029, grad=0), Value(data=18470.182121605623, grad=0), Value(data=19811.563605598036, grad=0)]]\n",
            "scores.shape (5, 10)\n",
            "[[Value(data=0.09966433221539346, grad=0), Value(data=0.10033489353323877, grad=0), Value(data=0.10633657923318329, grad=0), Value(data=0.10405541543361245, grad=0), Value(data=0.0675699502842905, grad=0), Value(data=0.10314298434063293, grad=0), Value(data=0.10222232654941507, grad=0), Value(data=0.108094684597215, grad=0), Value(data=0.10063514494151375, grad=0), Value(data=0.10794368887150485, grad=0)], [Value(data=0.09966445114000516, grad=0), Value(data=0.10033501758228523, grad=0), Value(data=0.10633674914715822, grad=0), Value(data=0.104055567914916, grad=0), Value(data=0.06756860904551251, grad=0), Value(data=0.10314312984913104, grad=0), Value(data=0.10222246502223921, grad=0), Value(data=0.10809486794664469, grad=0), Value(data=0.10063527128508382, grad=0), Value(data=0.10794387106702404, grad=0)], [Value(data=0.09909186157527172, grad=0), Value(data=0.09765727735118634, grad=0), Value(data=0.10682263771428327, grad=0), Value(data=0.10056503333000862, grad=0), Value(data=0.06807644695562536, grad=0), Value(data=0.10574890165742157, grad=0), Value(data=0.10610426385131934, grad=0), Value(data=0.10644012026789824, grad=0), Value(data=0.1016392733012643, grad=0), Value(data=0.10785418399572136, grad=0)], [Value(data=0.08410237310333528, grad=0), Value(data=0.08410237310333528, grad=0), Value(data=0.08410237310333528, grad=0), Value(data=0.08410237310333528, grad=0), Value(data=0.2430786420699826, grad=0), Value(data=0.08410237310333528, grad=0), Value(data=0.08410237310333528, grad=0), Value(data=0.08410237310333528, grad=0), Value(data=0.08410237310333528, grad=0), Value(data=0.08410237310333528, grad=0)], [Value(data=0.09966432981968076, grad=0), Value(data=0.10033489103429534, grad=0), Value(data=0.1063365758103, grad=0), Value(data=0.10405541236190687, grad=0), Value(data=0.06756997730327953, grad=0), Value(data=0.10314298140939313, grad=0), Value(data=0.10222232375990752, grad=0), Value(data=0.10809468090367712, grad=0), Value(data=0.10063514239634762, grad=0), Value(data=0.10794368520121227, grad=0)]]\n",
            "total loss: Value(data=0.1882531303783941, grad=1)\n",
            "scores [[Value(data=18405.213543502363, grad=0), Value(data=18529.047952117584, grad=0), Value(data=19637.395808709156, grad=0), Value(data=19216.12699621336, grad=0), Value(data=12479.389478305922, grad=0), Value(data=19047.625828916196, grad=0), Value(data=18877.605414558264, grad=0), Value(data=19962.069976819075, grad=0), Value(data=18584.496208063953, grad=0), Value(data=19934.18517956172, grad=0)], [Value(data=26572.203576271346, grad=0), Value(data=26750.988495582973, grad=0), Value(data=28351.156690560627, grad=0), Value(data=27742.953272037495, grad=0), Value(data=18016.528805471506, grad=0), Value(data=27499.68108350753, grad=0), Value(data=27254.21549440165, grad=0), Value(data=28819.902377621365, grad=0), Value(data=26831.04146370547, grad=0), Value(data=28779.643928589092, grad=0)], [Value(data=6303.556061418267, grad=0), Value(data=6212.188860040147, grad=0), Value(data=6795.396323189729, grad=0), Value(data=6397.121609661391, grad=0), Value(data=4331.42082324799, grad=0), Value(data=6727.199780210423, grad=0), Value(data=6749.8709450932565, grad=0), Value(data=6770.9535747752825, grad=0), Value(data=6465.687788581232, grad=0), Value(data=6860.987819031576, grad=0)], [Value(data=0.3913124246867624, grad=0), Value(data=0.3913124246867624, grad=0), Value(data=0.3913124246867624, grad=0), Value(data=0.3913124246867624, grad=0), Value(data=1.100099196746157, grad=0), Value(data=0.3913124246867624, grad=0), Value(data=0.3913124246867624, grad=0), Value(data=0.3913124246867624, grad=0), Value(data=0.3913124246867624, grad=0), Value(data=0.3913124246867624, grad=0)], [Value(data=18291.95534266754, grad=0), Value(data=18415.02770847979, grad=0), Value(data=19516.55509799156, grad=0), Value(data=19097.878657601945, grad=0), Value(data=12402.60152638603, grad=0), Value(data=18930.414400023714, grad=0), Value(data=18761.44024441219, grad=0), Value(data=19839.23131080063, grad=0), Value(data=18470.13475114906, grad=0), Value(data=19811.518108896296, grad=0)]]\n",
            "scores.shape (5, 10)\n",
            "[[Value(data=0.09966371888373246, grad=0), Value(data=0.10033427875847609, grad=0), Value(data=0.1063359515423122, grad=0), Value(data=0.10405479265198858, grad=0), Value(data=0.06757554656276028, grad=0), Value(data=0.10314236352263388, grad=0), Value(data=0.10222170771274534, grad=0), Value(data=0.10809405312276031, grad=0), Value(data=0.10063452952058599, grad=0), Value(data=0.10794305772200506, grad=0)], [Value(data=0.09966383426269705, grad=0), Value(data=0.10033439929565711, grad=0), Value(data=0.10633611824677582, grad=0), Value(data=0.10405494180885991, grad=0), Value(data=0.0675742354488457, grad=0), Value(data=0.10314250566073312, grad=0), Value(data=0.10222184276878953, grad=0), Value(data=0.10809423335124888, grad=0), Value(data=0.10063465236741674, grad=0), Value(data=0.10794323678897623, grad=0)], [Value(data=0.09909010676761343, grad=0), Value(data=0.0976538403726765, grad=0), Value(data=0.10682169566389424, grad=0), Value(data=0.1005609305494353, grad=0), Value(data=0.06808870225777597, grad=0), Value(data=0.10574966542268446, grad=0), Value(data=0.10610604968053791, grad=0), Value(data=0.10643746261726429, grad=0), Value(data=0.10163877136240107, grad=0), Value(data=0.10785277530571688, grad=0)], [Value(data=0.08466463830314198, grad=0), Value(data=0.08466463830314198, grad=0), Value(data=0.08466463830314198, grad=0), Value(data=0.08466463830314198, grad=0), Value(data=0.2380182552717223, grad=0), Value(data=0.08466463830314198, grad=0), Value(data=0.08466463830314198, grad=0), Value(data=0.08466463830314198, grad=0), Value(data=0.08466463830314198, grad=0), Value(data=0.08466463830314198, grad=0)], [Value(data=0.09966371655938419, grad=0), Value(data=0.1003342763302138, grad=0), Value(data=0.10633594818399442, grad=0), Value(data=0.10405478964717298, grad=0), Value(data=0.06757557297559323, grad=0), Value(data=0.1031423606592138, grad=0), Value(data=0.10222170499199566, grad=0), Value(data=0.10809404949199646, grad=0), Value(data=0.10063452704579505, grad=0), Value(data=0.10794305411464038, grad=0)]]\n",
            "total loss: Value(data=0.18776210931098453, grad=1)\n",
            "scores [[Value(data=18405.167624604946, grad=0), Value(data=18529.002221573017, grad=0), Value(data=19637.35176396807, grad=0), Value(data=19216.08231071998, grad=0), Value(data=12480.469063624314, grad=0), Value(data=19047.580887131568, grad=0), Value(data=18877.560214171604, grad=0), Value(data=19962.026425909266, grad=0), Value(data=18584.4505618565, grad=0), Value(data=19934.141586238973, grad=0)], [Value(data=26572.12534219792, grad=0), Value(data=26750.91046774939, grad=0), Value(data=28351.080508623407, grad=0), Value(data=27742.87638849873, grad=0), Value(data=18018.087790574322, grad=0), Value(data=27499.603919338733, grad=0), Value(data=27254.1380470726, grad=0), Value(data=28819.82673641228, grad=0), Value(data=26830.963528218104, grad=0), Value(data=28779.568240939312, grad=0)], [Value(data=6300.3911967969925, grad=0), Value(data=6208.9597768314015, grad=0), Value(data=6792.045715522116, grad=0), Value(data=6393.7600557537635, grad=0), Value(data=4330.104179222538, grad=0), Value(data=6723.992175258741, grad=0), Value(data=6746.718260480684, grad=0), Value(data=6767.504188816409, grad=0), Value(data=6462.52519962456, grad=0), Value(data=6857.57536584693, grad=0)], [Value(data=0.3962150191236839, grad=0), Value(data=0.3962150191236839, grad=0), Value(data=0.3962150191236839, grad=0), Value(data=0.3962150191236839, grad=0), Value(data=1.0844081353940103, grad=0), Value(data=0.3962150191236839, grad=0), Value(data=0.3962150191236839, grad=0), Value(data=0.3962150191236839, grad=0), Value(data=0.3962150191236839, grad=0), Value(data=0.3962150191236839, grad=0)], [Value(data=18291.906893816256, grad=0), Value(data=18414.9794276955, grad=0), Value(data=19516.508321447476, grad=0), Value(data=19097.831309315443, grad=0), Value(data=12403.672444181506, grad=0), Value(data=18930.366823048873, grad=0), Value(data=18761.3924366871, grad=0), Value(data=19839.184974901546, grad=0), Value(data=18470.08654561867, grad=0), Value(data=19811.4717351522, grad=0)]]\n",
            "scores.shape (5, 10)\n",
            "[[Value(data=0.09966310526792665, grad=0), Value(data=0.10033366370701097, grad=0), Value(data=0.10633532364134951, grad=0), Value(data=0.10405416963495522, grad=0), Value(data=0.06758114500507247, grad=0), Value(data=0.10314174245909852, grad=0), Value(data=0.1022210886203212, grad=0), Value(data=0.1080934214577267, grad=0), Value(data=0.10063391382628818, grad=0), Value(data=0.10794242638025049, grad=0)], [Value(data=0.09966321719826006, grad=0), Value(data=0.10033378082725807, grad=0), Value(data=0.10633548721257743, grad=0), Value(data=0.10405431555076078, grad=0), Value(data=0.06757986325307583, grad=0), Value(data=0.10314188131300159, grad=0), Value(data=0.10222122034864997, grad=0), Value(data=0.1080935986360848, grad=0), Value(data=0.10063403327037782, grad=0), Value(data=0.10794260238995368, grad=0)], [Value(data=0.0990883429627432, grad=0), Value(data=0.0976503706819542, grad=0), Value(data=0.10682075672069913, grad=0), Value(data=0.10055678598943207, grad=0), Value(data=0.06810098525204887, grad=0), Value(data=0.10575045611129025, grad=0), Value(data=0.10610787679459913, grad=0), Value(data=0.106434783986771, grad=0), Value(data=0.10163827822490086, grad=0), Value(data=0.10785136327556114, grad=0)], [Value(data=0.08520124062325982, grad=0), Value(data=0.08520124062325982, grad=0), Value(data=0.08520124062325982, grad=0), Value(data=0.08520124062325982, grad=0), Value(data=0.2331888343906617, grad=0), Value(data=0.08520124062325982, grad=0), Value(data=0.08520124062325982, grad=0), Value(data=0.08520124062325982, grad=0), Value(data=0.08520124062325982, grad=0), Value(data=0.08520124062325982, grad=0)], [Value(data=0.09966310301299355, grad=0), Value(data=0.10033366134752257, grad=0), Value(data=0.10633532034606606, grad=0), Value(data=0.10405416669535547, grad=0), Value(data=0.06758117082707192, grad=0), Value(data=0.10314173966176689, grad=0), Value(data=0.1022210859665404, grad=0), Value(data=0.10809341788831589, grad=0), Value(data=0.100633911419984, grad=0), Value(data=0.10794242283438324, grad=0)]]\n",
            "total loss: Value(data=0.18730285398010732, grad=1)\n",
            "scores [[Value(data=18405.120841972668, grad=0), Value(data=18528.955623087528, grad=0), Value(data=19637.30681364082, grad=0), Value(data=19216.03673394891, grad=0), Value(data=12481.548477099574, grad=0), Value(data=19047.535059792426, grad=0), Value(data=18877.514134005207, grad=0), Value(data=19961.98195838568, grad=0), Value(data=18584.404045824824, grad=0), Value(data=19934.09707724956, grad=0)], [Value(data=26572.0461794365, grad=0), Value(data=26750.831506622668, grad=0), Value(data=28351.00335217592, grad=0), Value(data=27742.798546115802, grad=0), Value(data=18019.64653426078, grad=0), Value(data=27499.525802591983, grad=0), Value(data=27254.05965348829, grad=0), Value(data=28819.75010861898, grad=0), Value(data=26830.884657375598, grad=0), Value(data=28779.49156774229, grad=0)], [Value(data=6297.208248653008, grad=0), Value(data=6205.711455936081, grad=0), Value(data=6788.676370639324, grad=0), Value(data=6390.378209118971, grad=0), Value(data=4328.776421160543, grad=0), Value(data=6720.767438688449, grad=0), Value(data=6743.549234365692, grad=0), Value(data=6764.034702550421, grad=0), Value(data=6459.345132198387, grad=0), Value(data=6854.14360922816, grad=0)], [Value(data=0.40089189545165854, grad=0), Value(data=0.40089189545165854, grad=0), Value(data=0.40089189545165854, grad=0), Value(data=0.40089189545165854, grad=0), Value(data=1.06903270546839, grad=0), Value(data=0.40089189545165854, grad=0), Value(data=0.40089189545165854, grad=0), Value(data=0.40089189545165854, grad=0), Value(data=0.40089189545165854, grad=0), Value(data=0.40089189545165854, grad=0)], [Value(data=18291.857648607252, grad=0), Value(data=18414.93034680008, grad=0), Value(data=19516.460711198288, grad=0), Value(data=19097.783140092473, grad=0), Value(data=12404.743235811588, grad=0), Value(data=18930.318430244828, grad=0), Value(data=18761.343818286117, grad=0), Value(data=19839.137795456496, grad=0), Value(data=18470.03753829651, grad=0), Value(data=19811.424518707332, grad=0)]]\n",
            "scores.shape (5, 10)\n",
            "[[Value(data=0.09966249138744195, grad=0), Value(data=0.10033304839775944, grad=0), Value(data=0.10633469554429016, grad=0), Value(data=0.10405354639837769, grad=0), Value(data=0.06758674546510335, grad=0), Value(data=0.10314112116664037, grad=0), Value(data=0.10222046928951108, grad=0), Value(data=0.10809278961466753, grad=0), Value(data=0.1006332978772902, grad=0), Value(data=0.10794179485891832, grad=0)], [Value(data=0.09966259996018274, grad=0), Value(data=0.10033316219019628, grad=0), Value(data=0.10633485605426675, grad=0), Value(data=0.10405368915161628, grad=0), Value(data=0.06758549235691604, grad=0), Value(data=0.10314125681745177, grad=0), Value(data=0.10222059777385806, grad=0), Value(data=0.1080929638098588, grad=0), Value(data=0.10063341400690491, grad=0), Value(data=0.10794196787874835, grad=0)], [Value(data=0.09908657014844612, grad=0), Value(data=0.09764686813893374, grad=0), Value(data=0.10681982091958567, grad=0), Value(data=0.10055259945205273, grad=0), Value(data=0.06811329585678094, grad=0), Value(data=0.10575127389306868, grad=0), Value(data=0.10610974544210211, grad=0), Value(data=0.10643208427864036, grad=0), Value(data=0.10163779396870108, grad=0), Value(data=0.10784994790168846, grad=0)], [Value(data=0.08571451202990132, grad=0), Value(data=0.08571451202990132, grad=0), Value(data=0.08571451202990132, grad=0), Value(data=0.08571451202990132, grad=0), Value(data=0.22856939173088783, grad=0), Value(data=0.08571451202990132, grad=0), Value(data=0.08571451202990132, grad=0), Value(data=0.08571451202990132, grad=0), Value(data=0.08571451202990132, grad=0), Value(data=0.08571451202990132, grad=0)], [Value(data=0.09966248920009474, grad=0), Value(data=0.10033304610525429, grad=0), Value(data=0.1063346923105959, grad=0), Value(data=0.10405354352241736, grad=0), Value(data=0.06758677071069115, grad=0), Value(data=0.1031411184337682, grad=0), Value(data=0.1022204667010172, grad=0), Value(data=0.10809278610526582, grad=0), Value(data=0.10063329553769937, grad=0), Value(data=0.10794179137319589, grad=0)]]\n",
            "total loss: Value(data=0.1868721069419861, grad=1)\n",
            "scores [[Value(data=18405.073227386765, grad=0), Value(data=18528.90818854488, grad=0), Value(data=19637.260990528757, grad=0), Value(data=19215.99029835274, grad=0), Value(data=12482.627713746328, grad=0), Value(data=19047.488379211856, grad=0), Value(data=18877.4672062314, grad=0), Value(data=19961.936607318457, grad=0), Value(data=18584.356691898574, grad=0), Value(data=19934.05168564054, grad=0)], [Value(data=26571.966121199188, grad=0), Value(data=26750.751645527165, grad=0), Value(data=28350.925255547205, grad=0), Value(data=27742.71977883588, grad=0), Value(data=18021.205032479684, grad=0), Value(data=27499.446767061694, grad=0), Value(data=27253.98034728903, grad=0), Value(data=28819.672528864798, grad=0), Value(data=26830.804884552566, grad=0), Value(data=28779.41394359609, grad=0)], [Value(data=6294.006719584083, grad=0), Value(data=6202.44340208827, grad=0), Value(data=6785.287753869977, grad=0), Value(data=6386.975557440904, grad=0), Value(data=4327.4371952652355, grad=0), Value(data=6717.52504668105, grad=0), Value(data=6740.363344290079, grad=0), Value(data=6760.544577920804, grad=0), Value(data=6456.147079694261, grad=0), Value(data=6850.692007735957, grad=0)], [Value(data=0.4053596260705341, grad=0), Value(data=0.4053596260705341, grad=0), Value(data=0.4053596260705341, grad=0), Value(data=0.4053596260705341, grad=0), Value(data=1.0539577796334316, grad=0), Value(data=0.4053596260705341, grad=0), Value(data=0.4053596260705341, grad=0), Value(data=0.4053596260705341, grad=0), Value(data=0.4053596260705341, grad=0), Value(data=0.4053596260705341, grad=0)], [Value(data=18291.807637180842, grad=0), Value(data=18414.88049602532, grad=0), Value(data=19516.41229829461, grad=0), Value(data=19097.73418067243, grad=0), Value(data=12405.81389519083, grad=0), Value(data=18930.269252226484, grad=0), Value(data=18761.29441969854, grad=0), Value(data=19839.089803755956, grad=0), Value(data=18469.987759455344, grad=0), Value(data=19811.376490831557, grad=0)]]\n",
            "scores.shape (5, 10)\n",
            "[[Value(data=0.09966187725969801, grad=0), Value(data=0.10033243284765596, grad=0), Value(data=0.10633406726372523, grad=0), Value(data=0.10405292295649797, grad=0), Value(data=0.06759234781173028, grad=0), Value(data=0.10314049966016171, grad=0), Value(data=0.10221984973588352, grad=0), Value(data=0.10809215760490157, grad=0), Value(data=0.10063268169030914, grad=0), Value(data=0.1079411631694366, grad=0)], [Value(data=0.09966198256053704, grad=0), Value(data=0.100332543396208, grad=0), Value(data=0.10633422478057562, grad=0), Value(data=0.10405306262130024, grad=0), Value(data=0.06759112266946539, grad=0), Value(data=0.10314063218441415, grad=0), Value(data=0.1022199750552052, grad=0), Value(data=0.10809232888042268, grad=0), Value(data=0.10063279458858396, grad=0), Value(data=0.10794133326328764, grad=0)], [Value(data=0.09908478830580254, grad=0), Value(data=0.09764333259486088, grad=0), Value(data=0.10681888829165229, grad=0), Value(data=0.10054837073087632, grad=0), Value(data=0.06812563403615914, grad=0), Value(data=0.10575211893534525, grad=0), Value(data=0.10611165587019064, grad=0), Value(data=0.10642936338960404, grad=0), Value(data=0.10163731866891045, grad=0), Value(data=0.10784852917659846, grad=0)], [Value(data=0.08620647943447841, grad=0), Value(data=0.08620647943447841, grad=0), Value(data=0.08620647943447841, grad=0), Value(data=0.08620647943447841, grad=0), Value(data=0.22414168508969445, grad=0), Value(data=0.08620647943447841, grad=0), Value(data=0.08620647943447841, grad=0), Value(data=0.08620647943447841, grad=0), Value(data=0.08620647943447841, grad=0), Value(data=0.08620647943447841, grad=0)], [Value(data=0.099661875138215, grad=0), Value(data=0.1003324306204479, grad=0), Value(data=0.10633406409025269, grad=0), Value(data=0.10405292014268842, grad=0), Value(data=0.06759237249452044, grad=0), Value(data=0.10314049699021195, grad=0), Value(data=0.1022198472110906, grad=0), Value(data=0.10809215415423477, grad=0), Value(data=0.10063267941576153, grad=0), Value(data=0.10794115974257676, grad=0)]]\n",
            "total loss: Value(data=0.18646706862024334, grad=1)\n",
            "scores [[Value(data=18405.024809948794, grad=0), Value(data=18528.859947143388, grad=0), Value(data=19637.214324696273, grad=0), Value(data=19215.943033666674, grad=0), Value(data=12483.706769369703, grad=0), Value(data=19047.440874993394, grad=0), Value(data=18877.41946032086, grad=0), Value(data=19961.89040302569, grad=0), Value(data=18584.308529319405, grad=0), Value(data=19934.00544170821, grad=0)], [Value(data=26571.88519793713, grad=0), Value(data=26750.67091501997, grad=0), Value(data=28350.846250242605, grad=0), Value(data=27742.640117803887, grad=0), Value(data=18022.763281914475, grad=0), Value(data=27499.366843748645, grad=0), Value(data=27253.900159330133, grad=0), Value(data=28819.59402893287, grad=0), Value(data=26830.724240353546, grad=0), Value(data=28779.335400259984, grad=0)], [Value(data=6290.786129075957, grad=0), Value(data=6199.155136609731, grad=0), Value(data=6781.879348905278, grad=0), Value(data=6383.5516055288645, grad=0), Value(data=4326.086161836336, grad=0), Value(data=6714.264493607467, grad=0), Value(data=6737.160086069987, grad=0), Value(data=6757.033295131503, grad=0), Value(data=6452.9305528947525, grad=0), Value(data=6847.2200384803555, grad=0)], [Value(data=0.4096329593320513, grad=0), Value(data=0.4096329593320513, grad=0), Value(data=0.4096329593320513, grad=0), Value(data=0.4096329593320513, grad=0), Value(data=1.0391696000930477, grad=0), Value(data=0.4096329593320513, grad=0), Value(data=0.4096329593320513, grad=0), Value(data=0.4096329593320513, grad=0), Value(data=0.4096329593320513, grad=0), Value(data=0.4096329593320513, grad=0)], [Value(data=18291.75688708954, grad=0), Value(data=18414.82990301009, grad=0), Value(data=19516.363111148126, grad=0), Value(data=19097.684459173255, grad=0), Value(data=12406.884417086234, grad=0), Value(data=18930.219316994302, grad=0), Value(data=18761.244268806277, grad=0), Value(data=19839.041028437998, grad=0), Value(data=18469.9372367727, grad=0), Value(data=19811.327680143506, grad=0)]]\n",
            "scores.shape (5, 10)\n",
            "[[Value(data=0.09966126290036059, grad=0), Value(data=0.1003318170719356, grad=0), Value(data=0.1063334388110356, grad=0), Value(data=0.10405229932216185, grad=0), Value(data=0.06759795192672857, grad=0), Value(data=0.10313987795309429, grad=0), Value(data=0.1022192299734615, grad=0), Value(data=0.10809152543868064, grad=0), Value(data=0.1006320652803873, grad=0), Value(data=0.10794053132215407, grad=0)], [Value(data=0.09966136501018037, grad=0), Value(data=0.10033192445585279, grad=0), Value(data=0.1063335933993981, grad=0), Value(data=0.1040524359687198, grad=0), Value(data=0.06759675410875245, grad=0), Value(data=0.10314000742320119, grad=0), Value(data=0.10221935220241275, grad=0), Value(data=0.10809169385488962, grad=0), Value(data=0.10063217502584124, grad=0), Value(data=0.1079406985507518, grad=0)], [Value(data=0.09908299741001499, grad=0), Value(data=0.09763976389310289, grad=0), Value(data=0.10681795886475641, grad=0), Value(data=0.10054409961163638, grad=0), Value(data=0.0681379997942632, grad=0), Value(data=0.10575299140363313, grad=0), Value(data=0.1061136083252893, grad=0), Value(data=0.10642662121136878, grad=0), Value(data=0.10163685239660089, grad=0), Value(data=0.10784710708933402, grad=0)], [Value(data=0.08667891536537851, grad=0), Value(data=0.08667891536537851, grad=0), Value(data=0.08667891536537851, grad=0), Value(data=0.08667891536537851, grad=0), Value(data=0.21988976171159325, grad=0), Value(data=0.08667891536537851, grad=0), Value(data=0.08667891536537851, grad=0), Value(data=0.08667891536537851, grad=0), Value(data=0.08667891536537851, grad=0), Value(data=0.08667891536537851, grad=0)], [Value(data=0.09966126084311656, grad=0), Value(data=0.1003318149084324, grad=0), Value(data=0.10633343569648714, grad=0), Value(data=0.1040522965690935, grad=0), Value(data=0.06759797605960695, grad=0), Value(data=0.10313987534461254, grad=0), Value(data=0.10221922751086995, grad=0), Value(data=0.10809152204553747, grad=0), Value(data=0.10063206306930539, grad=0), Value(data=0.10794052795293814, grad=0)]]\n",
            "total loss: Value(data=0.18608531707422016, grad=1)\n"
          ]
        }
      ]
    },
    {
      "cell_type": "markdown",
      "source": [
        "#### Figure out why gradients are not flowing to parameters with a MLP with less parameters and a toy problem"
      ],
      "metadata": {
        "id": "3wvtiL5TnobB"
      }
    },
    {
      "cell_type": "markdown",
      "source": [
        "##### Downscale MNIST images"
      ],
      "metadata": {
        "id": "TSnNVeXXq5Tl"
      }
    },
    {
      "cell_type": "code",
      "source": [
        "import cv2\n",
        "import numpy as np\n",
        "from torchvision.datasets import MNIST\n",
        "from torchvision import transforms\n",
        "\n",
        "# Load MNIST dataset\n",
        "mnist = copy.deepcopy(train_X)\n",
        "\n",
        "# Define downscaling function\n",
        "def downscale_image(image, scale_factor):\n",
        "    width = int(image.shape[1] * scale_factor)\n",
        "    height = int(image.shape[0] * scale_factor)\n",
        "    dim = (width, height)\n",
        "    downscaled_image = cv2.resize(image, dim, interpolation=cv2.INTER_AREA)\n",
        "    return downscaled_image\n",
        "\n",
        "# Define scale factor (e.g., 0.5 for half the size)\n",
        "scale_factor = 0.1\n",
        "\n",
        "# Downscale images in MNIST dataset\n",
        "downscaled_images = [downscale_image(np.array(image), scale_factor) for image in mnist]\n",
        "downscaled_images = np.array(downscaled_images)\n",
        "\n",
        "# Print shape of the downscaled images\n",
        "print(downscaled_images.shape)\n",
        "pyplot.imshow(downscaled_images[0], cmap=pyplot.get_cmap('gray'))\n",
        "pyplot.show()"
      ],
      "metadata": {
        "id": "HSl1L2YLq4iT",
        "outputId": "c334b940-16d1-4fa5-a196-5d62641f2387",
        "colab": {
          "base_uri": "https://localhost:8080/",
          "height": 453
        }
      },
      "execution_count": 13,
      "outputs": [
        {
          "output_type": "stream",
          "name": "stdout",
          "text": [
            "(60000, 2, 2)\n"
          ]
        },
        {
          "output_type": "display_data",
          "data": {
            "text/plain": [
              "<Figure size 640x480 with 1 Axes>"
            ],
            "image/png": "[encoded data removed]"
          },
          "metadata": {}
        }
      ]
    },
    {
      "cell_type": "code",
      "source": [
        "# define the MLP model\n",
        "in_inputs=downscaled_images[0].shape[0]*downscaled_images[0].shape[1]\n",
        "output_dim = len(unique_integers)\n",
        "model = MLP(in_inputs, [2,output_dim])\n",
        "\n",
        "# limit the training set to 5 examples for now\n",
        "limit_x=5\n",
        "# reshape here to flatten the 2D [downscaled_images.shape[0],downscaled_images.shape[1]] into 1D -> downscaled_images.shape[0]*downscaled_images.shape[1]\n",
        "inputs = downscaled_images[:limit_x].reshape(limit_x,-1)\n",
        "expected_outputs = yy_one[:limit_x]\n",
        "\n",
        "# Begin gradient descent iterations\n",
        "iterations = 10\n",
        "for iter in range(iterations):\n",
        "  # forward the model to get scores\n",
        "  scores = list(map(model, inputs))\n",
        "  print('scores',scores)\n",
        "  print('scores.shape',np.array(scores).shape)\n",
        "  # Get probabilities of each output\n",
        "  probs_predicted = []\n",
        "  for i in range(len(scores)):\n",
        "      total = sum(scores[i])\n",
        "      probs_predicted.append([])\n",
        "      if total.data == 0:\n",
        "          print(f\"Alert: Sum of scores at index {i} is zero.\")\n",
        "          # layer_num = 0\n",
        "          # for layer in model.layers:\n",
        "            # print(f'layer {layer_num}')\n",
        "            # print(layer.parameters())\n",
        "            # print(\"len of parameters:\",len(layer.parameters()))\n",
        "            # layer_num += 1\n",
        "          # You can also raise an exception if needed\n",
        "          # raise ValueError(f\"Sum of scores at index {i} is zero.\")\n",
        "          # How can I log the parameters if my model is fing up?\n",
        "          # for p in model.parameters():\n",
        "          #   print('p',p)\n",
        "      for j in range(len(scores[i])):\n",
        "          if total.data == 0:\n",
        "              probs_predicted[i].append(Value(0.0))\n",
        "          else:\n",
        "              probs_predicted[i].append(scores[i][j] / total)\n",
        "\n",
        "  # probs = [Value(0.0) if sum(scores[i]).data == 0 else scores[i][j]/sum(scores[i]) for i in range(len(scores)) for j in range(len(scores[i]))]\n",
        "  # Why do I get all zeros as the outputs for certain inputs??\n",
        "    # its because of relu()\n",
        "    # Solution: I think it will work itself out once I start training it\n",
        "  print(probs_predicted)\n",
        "  # print(expected_outputs)\n",
        "  # print(np.array(probs_predicted).shape)\n",
        "  # print(len(probs_predicted))\n",
        "\n",
        "  # Mean Squared Error(MSE) Loss\n",
        "    # Gain an intuition for how this will back propagate to help you update your parameters\n",
        "  losses = []\n",
        "  for yi_one, probs in zip(yy_one, probs_predicted):\n",
        "    loss = []\n",
        "    for k in range(len(yi_one)):\n",
        "      # (actual-expected)**2\n",
        "      loss.append((yi_one[i]-probs[i])**2)\n",
        "    losses.append(loss)\n",
        "  # Calculate total loss\n",
        "    # take (sum_of_each_example/num_classes)\n",
        "    # then data_loss = sum across all the examples / num_of_examples\n",
        "    # data_loss.backward()\n",
        "  data_loss = [sum(loss)/num_classes for loss in losses ]\n",
        "  data_loss = sum(data_loss)/limit_x\n",
        "  # print('losses',losses)\n",
        "  # print('losses shape',np.array(losses).shape)\n",
        "  # losses = [(yi_one-probs)**2 for yi_one, probs in zip(yy_one, probs_predicted)]\n",
        "\n",
        "  # Back propagation\n",
        "  model.zero_grad()\n",
        "  data_loss.backward()\n",
        "  print('total loss:',data_loss)\n",
        "\n",
        "  # Update parameters\n",
        "  for p in model.parameters():\n",
        "    # print('p.grad',p.grad)\n",
        "    # print('p before',p)\n",
        "    p.data -= p.grad\n",
        "    # print('p after',p)\n",
        "    # print()\n",
        "# for l in range(len(model.layers)):\n",
        "#   print(f'Layer {l}')\n",
        "#   for p in model.layers[l].parameters():\n",
        "#     print('p',p)"
      ],
      "metadata": {
        "id": "WNewOzFMnnms",
        "outputId": "235ceafa-adde-47b5-8d33-51a7884dc043",
        "colab": {
          "base_uri": "https://localhost:8080/"
        }
      },
      "execution_count": 53,
      "outputs": [
        {
          "output_type": "stream",
          "name": "stdout",
          "text": [
            "scores [[Value(data=14.761208020038612, grad=0), Value(data=-29.240798196111747, grad=0), Value(data=-5.3943238632547885, grad=0), Value(data=-1.0464944879799334, grad=0), Value(data=24.92118483231581, grad=0), Value(data=3.147339342161426, grad=0), Value(data=-38.55324612727477, grad=0), Value(data=36.02671562214486, grad=0), Value(data=-34.96476111353706, grad=0), Value(data=-2.222324062950971, grad=0)], [Value(data=17.204355661852752, grad=0), Value(data=-34.08048252686659, grad=0), Value(data=-6.287145752073221, grad=0), Value(data=-1.2197012158445395, grad=0), Value(data=29.045924072602418, grad=0), Value(data=3.6682597628581624, grad=0), Value(data=-44.934246397189334, grad=0), Value(data=41.98954638742268, grad=0), Value(data=-40.75182634188205, grad=0), Value(data=-2.590143945061899, grad=0)], [Value(data=13.096896271840654, grad=0), Value(data=-25.94392683582675, grad=0), Value(data=-4.786119130484139, grad=0), Value(data=-0.9285032593213419, grad=0), Value(data=22.111345648481347, grad=0), Value(data=2.7924799136096428, grad=0), Value(data=-34.2064053826903, grad=0), Value(data=31.964738717712226, grad=0), Value(data=-31.022518539948376, grad=0), Value(data=-1.9717592012369873, grad=0)], [Value(data=8.416802242711517, grad=0), Value(data=-16.67302672664757, grad=0), Value(data=-3.0758293717234935, grad=0), Value(data=-0.5967084226072511, grad=0), Value(data=14.209994473549548, grad=0), Value(data=1.7946046690566988, grad=0), Value(data=-21.982960204025805, grad=0), Value(data=20.542339111701356, grad=0), Value(data=-19.93681542572837, grad=0), Value(data=-1.267163373870574, grad=0)], [Value(data=16.347870493514232, grad=0), Value(data=-32.383852418317794, grad=0), Value(data=-5.974152508172023, grad=0), Value(data=-1.1589807784327726, grad=0), Value(data=27.59992960132841, grad=0), Value(data=3.4856426313449296, grad=0), Value(data=-42.69728290107914, grad=0), Value(data=39.89917901691826, grad=0), Value(data=-38.72307644095317, grad=0), Value(data=-2.4611986990782757, grad=0)]]\n",
            "scores.shape (5, 10)\n",
            "[[Value(data=-0.4532774870468397, grad=0), Value(data=0.8979072381870428, grad=0), Value(data=0.1656453565137506, grad=0), Value(data=0.0321350658479964, grad=0), Value(data=-0.7652633862816045, grad=0), Value(data=-0.09664643069604631, grad=0), Value(data=1.1838677768341415, grad=0), Value(data=-1.106284736424589, grad=0), Value(data=1.0736749344106649, grad=0), Value(data=0.06824166865548338, grad=0)], [Value(data=-0.4532774870468398, grad=0), Value(data=0.897907238187043, grad=0), Value(data=0.16564535651375065, grad=0), Value(data=0.03213506584799641, grad=0), Value(data=-0.7652633862816047, grad=0), Value(data=-0.09664643069604634, grad=0), Value(data=1.1838677768341417, grad=0), Value(data=-1.1062847364245894, grad=0), Value(data=1.073674934410665, grad=0), Value(data=0.06824166865548341, grad=0)], [Value(data=-0.4532774870468397, grad=0), Value(data=0.8979072381870427, grad=0), Value(data=0.1656453565137506, grad=0), Value(data=0.0321350658479964, grad=0), Value(data=-0.7652633862816044, grad=0), Value(data=-0.0966464306960463, grad=0), Value(data=1.1838677768341415, grad=0), Value(data=-1.106284736424589, grad=0), Value(data=1.0736749344106649, grad=0), Value(data=0.06824166865548338, grad=0)], [Value(data=-0.4532774870468397, grad=0), Value(data=0.8979072381870428, grad=0), Value(data=0.1656453565137506, grad=0), Value(data=0.0321350658479964, grad=0), Value(data=-0.7652633862816045, grad=0), Value(data=-0.09664643069604631, grad=0), Value(data=1.1838677768341412, grad=0), Value(data=-1.106284736424589, grad=0), Value(data=1.0736749344106649, grad=0), Value(data=0.06824166865548338, grad=0)], [Value(data=-0.45327748704683973, grad=0), Value(data=0.8979072381870429, grad=0), Value(data=0.16564535651375062, grad=0), Value(data=0.03213506584799641, grad=0), Value(data=-0.7652633862816045, grad=0), Value(data=-0.09664643069604631, grad=0), Value(data=1.1838677768341415, grad=0), Value(data=-1.106284736424589, grad=0), Value(data=1.0736749344106649, grad=0), Value(data=0.0682416686554834, grad=0)]]\n",
            "total loss: Value(data=1.09173340489583, grad=1)\n",
            "scores [[Value(data=-93.595846148432, grad=0), Value(data=-137.59785236458234, grad=0), Value(data=-113.75137803172538, grad=0), Value(data=-109.40354865645054, grad=0), Value(data=-225.03032702342873, grad=0), Value(data=-105.20971482630917, grad=0), Value(data=-146.91030029574534, grad=0), Value(data=-72.33033854632576, grad=0), Value(data=-143.32181528200763, grad=0), Value(data=-110.57937823142156, grad=0)], [Value(data=-109.07855175123086, grad=0), Value(data=-160.3633899399502, grad=0), Value(data=-132.5700531651568, grad=0), Value(data=-127.50260862892814, grad=0), Value(data=-262.2558639989288, grad=0), Value(data=-122.61464765022542, grad=0), Value(data=-171.2171538102729, grad=0), Value(data=-84.29336102566094, grad=0), Value(data=-167.03473375496563, grad=0), Value(data=-128.8730513581455, grad=0)], [Value(data=-83.0487762998433, grad=0), Value(data=-122.08959940751069, grad=0), Value(data=-100.93179170216807, grad=0), Value(data=-97.07417583100528, grad=0), Value(data=-199.67168824902447, grad=0), Value(data=-93.35319265807429, grad=0), Value(data=-130.3520779543742, grad=0), Value(data=-64.18093385397172, grad=0), Value(data=-127.16819111163231, grad=0), Value(data=-98.11743177292092, grad=0)], [Value(data=-53.39010287124186, grad=0), Value(data=-78.47993184060094, grad=0), Value(data=-64.88273448567686, grad=0), Value(data=-62.40361353656062, grad=0), Value(data=-128.36244342549048, grad=0), Value(data=-60.01230044489667, grad=0), Value(data=-83.78986531797915, grad=0), Value(data=-41.26456600225203, grad=0), Value(data=-81.74372053968173, grad=0), Value(data=-63.074068487823936, grad=0)], [Value(data=-103.65083731940786, grad=0), Value(data=-152.3825602312399, grad=0), Value(data=-125.97286032109409, grad=0), Value(data=-121.15768859135486, grad=0), Value(data=-249.2058461623979, grad=0), Value(data=-116.51306518157715, grad=0), Value(data=-162.6959907140012, grad=0), Value(data=-80.09952879600384, grad=0), Value(data=-158.72178425387526, grad=0), Value(data=-122.45990651200034, grad=0)]]\n",
            "scores.shape (5, 10)\n",
            "[[Value(data=0.07441645582468064, grad=0), Value(data=0.10940169808199775, grad=0), Value(data=0.09044177435898154, grad=0), Value(data=0.08698488961513003, grad=0), Value(data=0.1789177626921103, grad=0), Value(data=0.08365044409431248, grad=0), Value(data=0.11680586609379194, grad=0), Value(data=0.057508614588309054, grad=0), Value(data=0.11395272305922988, grad=0), Value(data=0.08791977159145638, grad=0)], [Value(data=0.07441553937505307, grad=0), Value(data=0.10940306748488429, grad=0), Value(data=0.0904419049655496, grad=0), Value(data=0.08698479435707138, grad=0), Value(data=0.1789161229263445, grad=0), Value(data=0.08365013097151473, grad=0), Value(data=0.11680771926740499, grad=0), Value(data=0.05750659342055166, grad=0), Value(data=0.11395438981526347, grad=0), Value(data=0.08791973741636239, grad=0)], [Value(data=0.07441727581707587, grad=0), Value(data=0.10940047281012338, grad=0), Value(data=0.09044165749888435, grad=0), Value(data=0.08698497484718351, grad=0), Value(data=0.17891922987090272, grad=0), Value(data=0.0836507242606252, grad=0), Value(data=0.11680420796853985, grad=0), Value(data=0.057510423026155146, grad=0), Value(data=0.11395123173092213, grad=0), Value(data=0.08791980216958786, grad=0)], [Value(data=0.07442131835328455, grad=0), Value(data=0.10939443225908105, grad=0), Value(data=0.09044108138235317, grad=0), Value(data=0.08698539503847358, grad=0), Value(data=0.17892646301529225, grad=0), Value(data=0.08365210547156099, grad=0), Value(data=0.11679603346422844, grad=0), Value(data=0.057519338566734066, grad=0), Value(data=0.11394387953019648, grad=0), Value(data=0.08791995291879523, grad=0)], [Value(data=0.07441582948247383, grad=0), Value(data=0.10940263399249428, grad=0), Value(data=0.09044186362128642, grad=0), Value(data=0.08698482451155981, grad=0), Value(data=0.17891664200366492, grad=0), Value(data=0.0836502300923442, grad=0), Value(data=0.11680713263459842, grad=0), Value(data=0.05750723323287454, grad=0), Value(data=0.113953862194018, grad=0), Value(data=0.08791974823468571, grad=0)]]\n",
            "total loss: Value(data=0.16044440397571338, grad=1)\n",
            "scores [[Value(data=-93.58155184628785, grad=0), Value(data=-137.58357240311898, grad=0), Value(data=-113.73709029846464, grad=0), Value(data=-109.38925950619002, grad=0), Value(data=-225.09613847181333, grad=0), Value(data=-105.19542430923751, grad=0), Value(data=-146.89602336929912, grad=0), Value(data=-72.31603731354633, grad=0), Value(data=-143.30753718603933, grad=0), Value(data=-110.5650894643753, grad=0)], [Value(data=-109.06201212645043, grad=0), Value(data=-160.3469232200726, grad=0), Value(data=-132.55354693515127, grad=0), Value(data=-127.48609519520384, grad=0), Value(data=-262.3328502008964, grad=0), Value(data=-122.59812726793051, grad=0), Value(data=-171.2007025197625, grad=0), Value(data=-84.2767861670378, grad=0), Value(data=-167.01827651885927, grad=0), Value(data=-128.8565398725992, grad=0)], [Value(data=-83.0360656199612, grad=0), Value(data=-122.07688861201503, grad=0), Value(data=-100.91908096932809, grad=0), Value(data=-97.06146510958907, grad=0), Value(data=-199.73001733935968, grad=0), Value(data=-93.3404819476772, grad=0), Value(data=-130.33936713441045, grad=0), Value(data=-64.16822322996394, grad=0), Value(data=-127.15548030109714, grad=0), Value(data=-98.10472104841526, grad=0)], [Value(data=-53.38211092732147, grad=0), Value(data=-78.47202405617138, grad=0), Value(data=-64.87478109180104, grad=0), Value(data=-62.39565182690245, grad=0), Value(data=-128.40037064066857, grad=0), Value(data=-60.004330713992424, grad=0), Value(data=-83.78197534480286, grad=0), Value(data=-41.25653338531588, grad=0), Value(data=-81.73582370306674, grad=0), Value(data=-63.06610902709092, grad=0)], [Value(data=-103.63498038878386, grad=0), Value(data=-152.36670654023962, grad=0), Value(data=-125.95700487441015, grad=0), Value(data=-121.14183282456433, grad=0), Value(data=-249.27866365199668, grad=0), Value(data=-116.49720910601789, grad=0), Value(data=-162.68013770862484, grad=0), Value(data=-80.08367029971842, grad=0), Value(data=-158.70593098429862, grad=0), Value(data=-122.44405083177965, grad=0)]]\n",
            "scores.shape (5, 10)\n",
            "[[Value(data=0.0744088045259874, grad=0), Value(data=0.10939580443959916, grad=0), Value(data=0.09043492817124876, grad=0), Value(data=0.08697786975373263, grad=0), Value(data=0.17897902136325974, grad=0), Value(data=0.0836432567105891, grad=0), Value(data=0.11680034443631249, grad=0), Value(data=0.057500113840772235, grad=0), Value(data=0.11394705806003003, grad=0), Value(data=0.08791279869846866, grad=0)], [Value(data=0.07440788803258146, grad=0), Value(data=0.10939717392610342, grad=0), Value(data=0.0904350587923934, grad=0), Value(data=0.0869777744976626, grad=0), Value(data=0.17897738144042766, grad=0), Value(data=0.08364294357763782, grad=0), Value(data=0.11680219772050497, grad=0), Value(data=0.05749809256766783, grad=0), Value(data=0.11394872491625355, grad=0), Value(data=0.08791276452876756, grad=0)], [Value(data=0.07440962455451636, grad=0), Value(data=0.10939457909744588, grad=0), Value(data=0.09043481129854197, grad=0), Value(data=0.08697795498369117, grad=0), Value(data=0.17898048867715294, grad=0), Value(data=0.08364353688494902, grad=0), Value(data=0.11679868621826066, grad=0), Value(data=0.057501922366179695, grad=0), Value(data=0.11394556664760075, grad=0), Value(data=0.08791282927166158, grad=0)], [Value(data=0.07441366722043076, grad=0), Value(data=0.10938853827230198, grad=0), Value(data=0.09043423512674881, grad=0), Value(data=0.08697837515961934, grad=0), Value(data=0.17898772240092273, grad=0), Value(data=0.08364491811900984, grad=0), Value(data=0.1167905113543872, grad=0), Value(data=0.05751083823161829, grad=0), Value(data=0.11393821412024466, grad=0), Value(data=0.08791297999471648, grad=0)], [Value(data=0.07440817815951904, grad=0), Value(data=0.1093967403987883, grad=0), Value(data=0.09043501744270943, grad=0), Value(data=0.08697780465210962, grad=0), Value(data=0.17897790057759333, grad=0), Value(data=0.08364304270361472, grad=0), Value(data=0.1168016110412514, grad=0), Value(data=0.05749873242581851, grad=0), Value(data=0.11394819725300091, grad=0), Value(data=0.08791277534559468, grad=0)]]\n",
            "total loss: Value(data=0.16044182495873244, grad=1)\n",
            "scores [[Value(data=-93.56729384564846, grad=0), Value(data=-137.5693288807427, grad=0), Value(data=-113.72283892972953, grad=0), Value(data=-109.37500670686065, grad=0), Value(data=-225.16175804004226, grad=0), Value(data=-105.18117012998403, grad=0), Value(data=-146.88178291105746, grad=0), Value(data=-72.30177231578023, grad=0), Value(data=-143.29329554705535, grad=0), Value(data=-110.55083705193671, grad=0)], [Value(data=-109.04551480428572, grad=0), Value(data=-160.33049897826095, grad=0), Value(data=-132.5370830881281, grad=0), Value(data=-127.46962412712571, grad=0), Value(data=-262.4096130238985, grad=0), Value(data=-122.58164923455956, grad=0), Value(data=-171.18429374444983, grad=0), Value(data=-84.26025352623792, grad=0), Value(data=-167.00186178364214, grad=0), Value(data=-128.84007075738748, grad=0)], [Value(data=-83.02338711035007, grad=0), Value(data=-122.06421008602915, grad=0), Value(data=-100.90640245221634, grad=0), Value(data=-97.0487865940953, grad=0), Value(data=-199.7881760186187, grad=0), Value(data=-93.32780343374412, grad=0), Value(data=-130.32668860495906, grad=0), Value(data=-64.15554472826648, grad=0), Value(data=-127.14280177298117, grad=0), Value(data=-98.09204253248392, grad=0)], [Value(data=-53.37413972060547, grad=0), Value(data=-78.4641371251381, grad=0), Value(data=-64.86684848835239, grad=0), Value(data=-62.38771089619056, grad=0), Value(data=-128.43818882662057, grad=0), Value(data=-59.9963817509602, grad=0), Value(data=-83.77410624961331, grad=0), Value(data=-41.248521449430335, grad=0), Value(data=-81.72794773496275, grad=0), Value(data=-63.05817034840907, grad=0)], [Value(data=-103.61916359160085, grad=0), Value(data=-152.3508930990806, grad=0), Value(data=-125.94118961448541, grad=0), Value(data=-121.12601723303155, grad=0), Value(data=-249.35126842462657, grad=0), Value(data=-116.48139319462226, grad=0), Value(data=-162.6643249777243, grad=0), Value(data=-80.06785188061951, grad=0), Value(data=-158.69011797970506, grad=0), Value(data=-122.42823532992713, grad=0)]]\n",
            "scores.shape (5, 10)\n",
            "[[Value(data=0.07440117331694132, grad=0), Value(data=0.10938992740386339, grad=0), Value(data=0.09042810047774948, grad=0), Value(data=0.08697086873072171, grad=0), Value(data=0.17904011429377778, grad=0), Value(data=0.08363608849721561, grad=0), Value(data=0.11679483864836787, grad=0), Value(data=0.05749163486615651, grad=0), Value(data=0.11394140921441195, grad=0), Value(data=0.08790584455079446, grad=0)], [Value(data=0.07440025677981893, grad=0), Value(data=0.10939129697382373, grad=0), Value(data=0.09042823111343024, grad=0), Value(data=0.08697077347662192, grad=0), Value(data=0.17903847421428887, grad=0), Value(data=0.08363577535411375, grad=0), Value(data=0.11679669204293087, grad=0), Value(data=0.05748961348787506, grad=0), Value(data=0.11394307617063473, grad=0), Value(data=0.08790581038646193, grad=0)], [Value(data=0.07440199338155117, grad=0), Value(data=0.1093887019915721, grad=0), Value(data=0.090427983592469, grad=0), Value(data=0.08697095395860203, grad=0), Value(data=0.1790415817424095, grad=0), Value(data=0.08363636867962107, grad=0), Value(data=0.1167931803376982, grad=0), Value(data=0.05749344347897884, grad=0), Value(data=0.11393991771802732, grad=0), Value(data=0.08790587511907078, grad=0)], [Value(data=0.07440603617686464, grad=0), Value(data=0.10938266089309187, grad=0), Value(data=0.09042740736559818, grad=0), Value(data=0.08697137411924677, grad=0), Value(data=0.17904881604368264, grad=0), Value(data=0.08363774993678318, grad=0), Value(data=0.11678500511525473, grad=0), Value(data=0.05750235966845247, grad=0), Value(data=0.11393256486494541, grad=0), Value(data=0.08790602581608026, grad=0)], [Value(data=0.07440054692625964, grad=0), Value(data=0.10939086341162574, grad=0), Value(data=0.09042818975833737, grad=0), Value(data=0.08697080363103392, grad=0), Value(data=0.1790389934111818, grad=0), Value(data=0.08363587448523918, grad=0), Value(data=0.11679610531728432, grad=0), Value(data=0.05749025339181282, grad=0), Value(data=0.11394254846542445, grad=0), Value(data=0.08790582120180071, grad=0)]]\n",
            "total loss: Value(data=0.16043926039432962, grad=1)\n",
            "scores [[Value(data=-93.5530720797641, grad=0), Value(data=-137.55512173035083, grad=0), Value(data=-113.70862385860868, grad=0), Value(data=-109.36079019158592, grad=0), Value(data=-225.22718625906523, grad=0), Value(data=-105.16695222170584, grad=0), Value(data=-146.86757885384304, grad=0), Value(data=-72.28754348644823, grad=0), Value(data=-143.2790902979072, grad=0), Value(data=-110.53662092721981, grad=0)], [Value(data=-109.02905970698055, grad=0), Value(data=-160.31411713630695, grad=0), Value(data=-132.52066154612402, grad=0), Value(data=-127.45319534677512, grad=0), Value(data=-262.48615308584397, grad=0), Value(data=-122.56521347223709, grad=0), Value(data=-171.16792740603083, grad=0), Value(data=-84.24376302572365, grad=0), Value(data=-166.98548947104715, grad=0), Value(data=-128.82364393457962, grad=0)], [Value(data=-83.01074071189834, grad=0), Value(data=-122.05156377018726, grad=0), Value(data=-100.89375609160483, grad=0), Value(data=-97.03614022532112, grad=0), Value(data=-199.84616475828307, grad=0), Value(data=-93.3151570570964, grad=0), Value(data=-130.31404230660047, grad=0), Value(data=-64.14289828989064, grad=0), Value(data=-127.13015546788552, grad=0), Value(data=-98.07939616591726, grad=0)], [Value(data=-53.36618921295763, grad=0), Value(data=-78.45627100906401, grad=0), Value(data=-64.85893663705687, grad=0), Value(data=-62.379790706180636, grad=0), Value(data=-128.47589828486454, grad=0), Value(data=-59.98845351758436, grad=0), Value(data=-83.76625799390978, grad=0), Value(data=-41.24053015660456, grad=0), Value(data=-81.72009259689354, grad=0), Value(data=-63.05025241352606, grad=0)], [Value(data=-103.60338685413832, grad=0), Value(data=-152.33511983374405, grad=0), Value(data=-125.92541446746279, grad=0), Value(data=-121.11024174292886, grad=0), Value(data=-249.42366106876017, grad=0), Value(data=-116.46561737359103, grad=0), Value(data=-162.64855244721772, grad=0), Value(data=-80.05207346513073, grad=0), Value(data=-158.67434516603706, grad=0), Value(data=-122.41245993260722, grad=0)]]\n",
            "scores.shape (5, 10)\n",
            "[[Value(data=0.07439356215414987, grad=0), Value(data=0.10938406693201463, grad=0), Value(data=0.09042129123537365, grad=0), Value(data=0.08696388650292633, grad=0), Value(data=0.17910104187152961, grad=0), Value(data=0.08362893941096233, grad=0), Value(data=0.11678934868731282, grad=0), Value(data=0.05748317762077128, grad=0), Value(data=0.11393577647968019, grad=0), Value(data=0.08789890910527934, grad=0)], [Value(data=0.07439264557337302, grad=0), Value(data=0.10938543658526957, grad=0), Value(data=0.09042142188555018, grad=0), Value(data=0.08696379125077847, grad=0), Value(data=0.17909940163579263, grad=0), Value(data=0.08362862625771288, grad=0), Value(data=0.11679120219203751, grad=0), Value(data=0.05748115613748283, grad=0), Value(data=0.11393744353571159, grad=0), Value(data=0.08789887494629109, grad=0)], [Value(data=0.07439438225478769, grad=0), Value(data=0.10938284144972618, grad=0), Value(data=0.09042117433755535, grad=0), Value(data=0.08696397172874512, grad=0), Value(data=0.17910250945453818, grad=0), Value(data=0.08362921960141152, grad=0), Value(data=0.11678769028420716, grad=0), Value(data=0.057484986320861915, grad=0), Value(data=0.11393428489950617, grad=0), Value(data=0.08789893966866091, grad=0)], [Value(data=0.07439842517919337, grad=0), Value(data=0.10937680007867422, grad=0), Value(data=0.09042059805579078, grad=0), Value(data=0.08696439187418445, grad=0), Value(data=0.17910974433144114, grad=0), Value(data=0.08363060088165084, grad=0), Value(data=0.11677951470418502, grad=0), Value(data=0.05749390283354591, grad=0), Value(data=0.1139269317216024, grad=0), Value(data=0.08789909033973164, grad=0)], [Value(data=0.07439293573930313, grad=0), Value(data=0.10938500298823088, grad=0), Value(data=0.0904213805250603, grad=0), Value(data=0.0869638214051618, grad=0), Value(data=0.17909992089229487, grad=0), Value(data=0.08362872539398783, grad=0), Value(data=0.11679061542005202, grad=0), Value(data=0.057481796087166866, grad=0), Value(data=0.11393691578859316, grad=0), Value(data=0.08789888576014938, grad=0)]]\n",
            "total loss: Value(data=0.16043671020554068, grad=1)\n",
            "scores [[Value(data=-93.53888648186783, grad=0), Value(data=-137.5409508848242, grad=0), Value(data=-113.69444501817377, grad=0), Value(data=-109.34660989347233, grad=0), Value(data=-225.2924236585026, grad=0), Value(data=-105.15277051754302, grad=0), Value(data=-146.85341113046212, grad=0), Value(data=-72.27335075895365, grad=0), Value(data=-143.26492137142984, grad=0), Value(data=-110.52244102332172, grad=0)], [Value(data=-109.01264675675887, grad=0), Value(data=-160.2977776159833, grad=0), Value(data=-132.50428223115622, grad=0), Value(data=-127.43680877621388, grad=0), Value(data=-262.5624710030955, grad=0), Value(data=-122.54881990306791, grad=0), Value(data=-171.15160342618273, grad=0), Value(data=-84.227314587937, grad=0), Value(data=-166.96915950278824, grad=0), Value(data=-128.80725932622545, grad=0)], [Value(data=-82.99812636547892, grad=0), Value(data=-122.0389496051085, grad=0), Value(data=-100.88114182825021, grad=0), Value(data=-97.02352594404826, grad=0), Value(data=-199.90398402865458, grad=0), Value(data=-93.30254275853994, grad=0), Value(data=-130.30142817990009, grad=0), Value(data=-64.13028385583202, grad=0), Value(data=-127.11754132639629, grad=0), Value(data=-98.06678188949022, grad=0)], [Value(data=-53.35825936623221, grad=0), Value(data=-78.44842566950307, grad=0), Value(data=-64.8510454996312, grad=0), Value(data=-62.371891218619055, grad=0), Value(data=-128.51349931616343, grad=0), Value(data=-59.980545975639906, grad=0), Value(data=-83.75843053918267, grad=0), Value(data=-41.23255946883794, grad=0), Value(data=-81.71225825037398, grad=0), Value(data=-63.042355184180224, grad=0)], [Value(data=-103.58765010265616, grad=0), Value(data=-152.31938667019216, grad=0), Value(data=-125.90967935946576, grad=0), Value(data=-121.09450628040915, grad=0), Value(data=-249.495842171398, grad=0), Value(data=-116.44988156910549, grad=0), Value(data=-162.63282004300427, grad=0), Value(data=-80.03633497965583, grad=0), Value(data=-158.65861246921799, grad=0), Value(data=-122.39672456596485, grad=0)]]\n",
            "scores.shape (5, 10)\n",
            "[[Value(data=0.07438597099427113, grad=0), Value(data=0.10937822298137223, grad=0), Value(data=0.09041450040108227, grad=0), Value(data=0.08695692302724206, grad=0), Value(data=0.17916180448373212, grad=0), Value(data=0.0836218094086618, grad=0), Value(data=0.1167838745106066, grad=0), Value(data=0.05747474206095506, grad=0), Value(data=0.11393015981323998, grad=0), Value(data=0.08789199231883656, grad=0)], [Value(data=0.07438505436990198, grad=0), Value(data=0.10937959271776046, grad=0), Value(data=0.09041463106571433, grad=0), Value(data=0.08695682777702801, grad=0), Value(data=0.1791601640921552, grad=0), Value(data=0.08362149624526795, grad=0), Value(data=0.11678572812528437, grad=0), Value(data=0.057472720472829746, grad=0), Value(data=0.11393182696888964, grad=0), Value(data=0.08789195816516852, grad=0)], [Value(data=0.07438679113088391, grad=0), Value(data=0.10937699742922732, grad=0), Value(data=0.09041438349076185, grad=0), Value(data=0.08695700825101593, grad=0), Value(data=0.17916327220075645, grad=0), Value(data=0.08362208960715287, grad=0), Value(data=0.11678221601524665, grad=0), Value(data=0.0574765508481674, grad=0), Value(data=0.11392866814944252, grad=0), Value(data=0.08789202287734516, grad=0)], [Value(data=0.07439083418407486, grad=0), Value(data=0.1093709557863677, grad=0), Value(data=0.0904138071542872, grad=0), Value(data=0.08695742838132768, grad=0), Value(data=0.17917050765141943, grad=0), Value(data=0.08362347091044514, grad=0), Value(data=0.11677404007863663, grad=0), Value(data=0.05748546768323717, grad=0), Value(data=0.1139213146476203, grad=0), Value(data=0.08789217352258359, grad=0)], [Value(data=0.07438534455530757, grad=0), Value(data=0.1093791590859231, grad=0), Value(data=0.09041458969983915, grad=0), Value(data=0.08695685793138887, grad=0), Value(data=0.17916068340814884, grad=0), Value(data=0.0836215953866933, grad=0), Value(data=0.11678514130701381, grad=0), Value(data=0.05747336046821914, grad=0), Value(data=0.11393129917991235, grad=0), Value(data=0.087891968977554, grad=0)]]\n",
            "total loss: Value(data=0.16043417431578139, grad=1)\n",
            "scores [[Value(data=-93.52473698517673, grad=0), Value(data=-137.5268162770284, grad=0), Value(data=-113.68030234148085, grad=0), Value(data=-109.33246574561068, grad=0), Value(data=-225.3574707666489, grad=0), Value(data=-105.13862495061987, grad=0), Value(data=-146.83927967370582, grad=0), Value(data=-72.25919406668346, grad=0), Value(data=-143.25078870044305, grad=0), Value(data=-110.50829727332382, grad=0)], [Value(data=-108.99627587582579, grad=0), Value(data=-160.28148033904472, grad=0), Value(data=-132.48794506522358, grad=0), Value(data=-127.42046433748534, grad=0), Value(data=-262.63856739047264, grad=0), Value(data=-122.53246844913828, grad=0), Value(data=-171.13532172656494, grad=0), Value(data=-84.21090813530076, grad=0), Value(data=-166.95287180056164, grad=0), Value(data=-128.79091685435617, grad=0)], [Value(data=-82.98554401195013, grad=0), Value(data=-122.02636753139788, grad=0), Value(data=-100.86855960289475, grad=0), Value(data=-97.01094369104403, grad=0), Value(data=-199.9616342988583, grad=0), Value(data=-93.28996047886623, grad=0), Value(data=-130.28884616540932, grad=0), Value(data=-64.1177013670713, grad=0), Value(data=-127.10495928908558, grad=0), Value(data=-98.05419964396334, grad=0)], [Value(data=-53.35035014227459, grad=0), Value(data=-78.44060106800096, grad=0), Value(data=-64.84317503778347, grad=0), Value(data=-62.364012395243535, grad=0), Value(data=-128.55099222052695, grad=0), Value(data=-59.97265908689311, grad=0), Value(data=-83.75062384691422, grad=0), Value(data=-41.2246093481207, grad=0), Value(data=-81.70444465691081, grad=0), Value(data=-63.034478622101275, grad=0)], [Value(data=-103.57195326339584, grad=0), Value(data=-152.30369353436933, grad=0), Value(data=-125.89398421659972, grad=0), Value(data=-121.07881077160721, grad=0), Value(data=-249.56781231807216, grad=0), Value(data=-116.4341857073287, grad=0), Value(data=-162.61712769096542, grad=0), Value(data=-80.02063635057992, grad=0), Value(data=-158.6429198151536, grad=0), Value(data=-122.38102915612681, grad=0)]]\n",
            "scores.shape (5, 10)\n",
            "[[Value(data=0.07437839979401402, grad=0), Value(data=0.10937239550935053, grad=0), Value(data=0.09040772793190735, grad=0), Value(data=0.08694997826063128, grad=0), Value(data=0.17922240251695443, grad=0), Value(data=0.08361469844720917, grad=0), Value(data=0.11677841607581282, grad=0), Value(data=0.057466328143075854, grad=0), Value(data=0.11392455917259744, grad=0), Value(data=0.0878850941484473, grad=0)], [Value(data=0.0743774831261146, grad=0), Value(data=0.10937376532871057, grad=0), Value(data=0.09040785861095464, grad=0), Value(data=0.0869498830123328, grad=0), Value(data=0.17922076196994463, grad=0), Value(data=0.08361438527367396, grad=0), Value(data=0.11678026980023495, grad=0), Value(data=0.057464306450283706, grad=0), Value(data=0.11392622642767489, grad=0), Value(data=0.08788506000007525, grad=0)], [Value(data=0.07437921996654866, grad=0), Value(data=0.10937116988748974, grad=0), Value(data=0.09040761100912045, grad=0), Value(data=0.0869500634823767, grad=0), Value(data=0.1792238703676341, grad=0), Value(data=0.08361497865374014, grad=0), Value(data=0.11677675748838018, grad=0), Value(data=0.05746813701726318, grad=0), Value(data=0.11392306742534235, grad=0), Value(data=0.0878851247021046, grad=0)], [Value(data=0.07438326314821767, grad=0), Value(data=0.10936512797358594, grad=0), Value(data=0.09040703461811897, grad=0), Value(data=0.08695048359763832, grad=0), Value(data=0.17923110639019063, grad=0), Value(data=0.08361635998006076, grad=0), Value(data=0.11676858119617234, grad=0), Value(data=0.057477054173894114, grad=0), Value(data=0.11391571360050444, grad=0), Value(data=0.0878852753216168, grad=0)], [Value(data=0.07437777333098188, grad=0), Value(data=0.10937333166211678, grad=0), Value(data=0.090407817239706, grad=0), Value(data=0.0869499131666775, grad=0), Value(data=0.17922128134531226, grad=0), Value(data=0.08361448442025068, grad=0), Value(data=0.11677968293573338, grad=0), Value(data=0.05746494649133761, grad=0), Value(data=0.11392569859688821, grad=0), Value(data=0.08788507081099574, grad=0)]]\n",
            "total loss: Value(data=0.16043165264884618, grad=1)\n",
            "scores [[Value(data=-93.51062352289264, grad=0), Value(data=-137.5127178398143, grad=0), Value(data=-113.66619576157107, grad=0), Value(data=-109.31835768107676, grad=0), Value(data=-225.4223281104753, grad=0), Value(data=-105.12451545404564, grad=0), Value(data=-146.82518441635088, grad=0), Value(data=-72.2450733430091, grad=0), Value(data=-143.2366922177522, grad=0), Value(data=-110.49418961029255, grad=0)], [Value(data=-108.97994698636869, grad=0), Value(data=-160.26522522722905, grad=0), Value(data=-132.4716499703075, grad=0), Value(data=-127.40416195261537, grad=0), Value(data=-262.71444286125546, grad=0), Value(data=-122.51615903251691, grad=0), Value(data=-171.11908222882013, grad=0), Value(data=-84.19454359021952, grad=0), Value(data=-166.93662628604662, grad=0), Value(data=-128.77461644098568, grad=0)], [Value(data=-82.97299359215651, grad=0), Value(data=-122.01381748964718, grad=0), Value(data=-100.85600935626724, grad=0), Value(data=-96.99839340706218, grad=0), Value(data=-200.019116036845, grad=0), Value(data=-93.27741015885307, grad=0), Value(data=-130.27629620366648, grad=0), Value(data=-64.10515076457523, grad=0), Value(data=-127.09240929651227, grad=0), Value(data=-98.04164937008362, grad=0)], [Value(data=-53.342461502921715, grad=0), Value(data=-78.43279716609548, grad=0), Value(data=-64.83532521321358, grad=0), Value(data=-62.35615419778353, grad=0), Value(data=-128.58837729721293, grad=0), Value(data=-59.96479281310196, grad=0), Value(data=-83.74283787857892, grad=0), Value(data=-41.21667975643435, grad=0), Value(data=-81.69665177800287, grad=0), Value(data=-63.026622689010686, grad=0)], [Value(data=-103.55629626258153, grad=0), Value(data=-152.28804035220313, grad=0), Value(data=-125.87832896495301, grad=0), Value(data=-121.06315514264065, grad=0), Value(data=-249.63957209284928, grad=0), Value(data=-116.41852971440655, grad=0), Value(data=-162.60147531696606, grad=0), Value(data=-80.00497750427043, grad=0), Value(data=-158.62726712973293, grad=0), Value(data=-122.36537362920286, grad=0)]]\n",
            "scores.shape (5, 10)\n",
            "[[Value(data=0.07437084851013816, grad=0), Value(data=0.10936658447345837, grad=0), Value(data=0.09040097378495175, grad=0), Value(data=0.08694305216012277, grad=0), Value(data=0.17928283635711784, grad=0), Value(data=0.0836076064835618, grad=0), Value(data=0.11677297334059897, grad=0), Value(data=0.057457935823531175, grad=0), Value(data=0.11391897451535897, grad=0), Value(data=0.08787821455116043, grad=0)], [Value(data=0.0743699317987707, grad=0), Value(data=0.10936795437562911, grad=0), Value(data=0.09040110447837417, grad=0), Value(data=0.08694295691372182, grad=0), Value(data=0.17928119565508183, grad=0), Value(data=0.0836072932998885, grad=0), Value(data=0.116774827174557, grad=0), Value(data=0.05745591402624239, grad=0), Value(data=0.11392064186967393, grad=0), Value(data=0.08787818040806036, grad=0)], [Value(data=0.07437166871854159, grad=0), Value(data=0.10936535878202232, grad=0), Value(data=0.09040085684973401, grad=0), Value(data=0.08694313737985626, grad=0), Value(data=0.17928430434109321, grad=0), Value(data=0.0836078866981307, grad=0), Value(data=0.11677131466127522, grad=0), Value(data=0.057459744784546816, grad=0), Value(data=0.11391748268481199, grad=0), Value(data=0.08787824509998808, grad=0)], [Value(data=0.07437571202838128, grad=0), Value(data=0.10935931659783718, grad=0), Value(data=0.0904002804043885, grad=0), Value(data=0.08694355748014483, grad=0), Value(data=0.17929154093368024, grad=0), Value(data=0.08360926804745478, grad=0), Value(data=0.11676313801445885, grad=0), Value(data=0.057468662261914306, grad=0), Value(data=0.11391012853786045, grad=0), Value(data=0.08787839569387973, grad=0)], [Value(data=0.0743702220230858, grad=0), Value(data=0.109367520674321, grad=0), Value(data=0.09040106310176388, grad=0), Value(data=0.08694298706805663, grad=0), Value(data=0.17928171508970606, grad=0), Value(data=0.08360739245161751, grad=0), Value(data=0.11677424026387842, grad=0), Value(data=0.05745655411291986, grad=0), Value(data=0.11392011399712731, grad=0), Value(data=0.0878781912175236, grad=0)]]\n",
            "total loss: Value(data=0.16042914512890644, grad=1)\n",
            "scores [[Value(data=-93.49654602820324, grad=0), Value(data=-137.49865550601936, grad=0), Value(data=-113.65212521147167, grad=0), Value(data=-109.30428563293242, grad=0), Value(data=-225.48699621563256, grad=0), Value(data=-105.11044196091555, grad=0), Value(data=-146.8111252911606, grad=0), Value(data=-72.23098852128747, grad=0), Value(data=-143.22263185614915, grad=0), Value(data=-110.48011796728038, grad=0)], [Value(data=-108.96366001055843, grad=0), Value(data=-160.24901220225848, grad=0), Value(data=-132.45539686837333, grad=0), Value(data=-127.38790154361362, grad=0), Value(data=-262.7900980271874, grad=0), Value(data=-122.49989157525624, grad=0), Value(data=-171.10288485457562, grad=0), Value(data=-84.17822087508098, grad=0), Value(data=-166.9204228809071, grad=0), Value(data=-128.75835800811166, grad=0)], [Value(data=-82.9604750469296, grad=0), Value(data=-122.00129942043564, grad=0), Value(data=-100.84349102908364, grad=0), Value(data=-96.98587503284358, grad=0), Value(data=-200.07642970939332, grad=0), Value(data=-93.26489173926544, grad=0), Value(data=-130.26377823519732, grad=0), Value(data=-64.09263198929726, grad=0), Value(data=-127.07989128922277, grad=0), Value(data=-98.0291310085852, grad=0)], [Value(data=-53.334593410002725, grad=0), Value(data=-78.42501392531726, grad=0), Value(data=-64.82749598761396, grad=0), Value(data=-62.348316587960966, grad=0), Value(data=-128.62565484472935, grad=0), Value(data=-59.956947116016806, grad=0), Value(data=-83.73507259564423, grad=0), Value(data=-41.208770655752325, grad=0), Value(data=-81.68887957514198, grad=0), Value(data=-63.01878734662238, grad=0)], [Value(data=-103.540679026421, grad=0), Value(data=-152.27242704960534, grad=0), Value(data=-125.86271353059782, grad=0), Value(data=-121.0475393196109, grad=0), Value(data=-249.71112207833357, grad=0), Value(data=-116.40291351646871, grad=0), Value(data=-162.5858628468553, grad=0), Value(data=-79.98935836707818, grad=0), Value(data=-158.61165433882925, grad=0), Value(data=-122.3497579112865, grad=0)]]\n",
            "scores.shape (5, 10)\n",
            "[[Value(data=0.07436331709945425, grad=0), Value(data=0.10936078983129932, grad=0), Value(data=0.09039423791738933, grad=0), Value(data=0.08693614468281206, grad=0), Value(data=0.17934310638949663, grad=0), Value(data=0.08360053347473968, grad=0), Value(data=0.11676754626273637, grad=0), Value(data=0.05744956505874854, grad=0), Value(data=0.11391340579923123, grad=0), Value(data=0.08787135348409263, grad=0)], [Value(data=0.07436240034468104, grad=0), Value(data=0.10936215981611971, grad=0), Value(data=0.09039436862514684, grad=0), Value(data=0.08693604943829072, grad=0), Value(data=0.17934146553284025, grad=0), Value(data=0.08360022028093163, grad=0), Value(data=0.11676940020602203, grad=0), Value(data=0.05744754315713334, grad=0), Value(data=0.11391507325259365, grad=0), Value(data=0.08787131934624062, grad=0)], [Value(data=0.07436413734367327, grad=0), Value(data=0.10935956407042849, grad=0), Value(data=0.09039412096977625, grad=0), Value(data=0.08693622990054999, grad=0), Value(data=0.1793445745064086, grad=0), Value(data=0.08360081369734443, grad=0), Value(data=0.11676588749170293, grad=0), Value(data=0.05745137410644573, grad=0), Value(data=0.11391191388555802, grad=0), Value(data=0.08787138402811219, grad=0)], [Value(data=0.07436818078137608, grad=0), Value(data=0.10935352161672422, grad=0), Value(data=0.09039354447026918, grad=0), Value(data=0.08693664998594226, grad=0), Value(data=0.1793518116671666, grad=0), Value(data=0.08360219506964672, grad=0), Value(data=0.11675771049126671, grad=0), Value(data=0.05746029190372519, grad=0), Value(data=0.11390455941739423, grad=0), Value(data=0.08787153459648862, grad=0)], [Value(data=0.07436269058843002, grad=0), Value(data=0.10936172608013936, grad=0), Value(data=0.09039432724318662, grad=0), Value(data=0.0869360795926218, grad=0), Value(data=0.1793419850266039, grad=0), Value(data=0.08360031943781378, grad=0), Value(data=0.11676881324922035, grad=0), Value(data=0.05744818328939336, grad=0), Value(data=0.11391454533833642, grad=0), Value(data=0.08787133015425433, grad=0)]]\n",
            "total loss: Value(data=0.16042665168050926, grad=1)\n",
            "scores [[Value(data=-93.482504434283, grad=0), Value(data=-137.48462920846868, grad=0), Value(data=-113.63809062419705, grad=0), Value(data=-109.2902495342266, grad=0), Value(data=-225.55147560645406, grad=0), Value(data=-105.09640440431183, grad=0), Value(data=-146.79710223088603, grad=0), Value(data=-72.21693953486196, grad=0), Value(data=-143.20860754841343, grad=0), Value(data=-110.4660822773269, grad=0)], [Value(data=-108.94741487055033, grad=0), Value(data=-160.2328411858407, grad=0), Value(data=-132.4391856813714, grad=0), Value(data=-127.37168303247464, grad=0), Value(data=-262.8655334984791, grad=0), Value(data=-122.48366599939345, grad=0), Value(data=-171.08672952544427, grad=0), Value(data=-84.16193991225688, grad=0), Value(data=-166.9042615067924, grad=0), Value(data=-128.7421414777167, grad=0)], [Value(data=-82.94798831708893, grad=0), Value(data=-121.98881326433096, grad=0), Value(data=-100.83100456204812, grad=0), Value(data=-96.97338850911733, grad=0), Value(data=-200.13357578211293, grad=0), Value(data=-93.25240516085637, grad=0), Value(data=-130.25129220051636, grad=0), Value(data=-64.08014498217861, grad=0), Value(data=-127.06740520775205, grad=0), Value(data=-98.01664450019041, grad=0)], [Value(data=-53.32674582533948, grad=0), Value(data=-78.41725130719013, grad=0), Value(data=-64.81968732266995, grad=0), Value(data=-62.34049952749063, grad=0), Value(data=-128.66282516083558, grad=0), Value(data=-59.949121957380854, grad=0), Value(data=-83.72732795957091, grad=0), Value(data=-41.20088200804047, grad=0), Value(data=-81.68112800981321, grad=0), Value(data=-63.010972556643196, grad=0)], [Value(data=-103.5251014811068, grad=0), Value(data=-152.25685355247322, grad=0), Value(data=-125.8471378395914, grad=0), Value(data=-121.03196322860444, grad=0), Value(data=-249.78246285567022, grad=0), Value(data=-116.38733703962977, grad=0), Value(data=-162.57029020646786, grad=0), Value(data=-79.9737788653385, grad=0), Value(data=-158.5960813683014, grad=0), Value(data=-122.33418192845629, grad=0)]]\n",
            "scores.shape (5, 10)\n",
            "[[Value(data=0.07435580551882406, grad=0), Value(data=0.10935501154057141, grad=0), Value(data=0.0903875202864649, grad=0), Value(data=0.08692925578586136, grad=0), Value(data=0.17940321299871814, grad=0), Value(data=0.08359347937782527, grad=0), Value(data=0.11676213480009998, grad=0), Value(data=0.05744121580518564, grad=0), Value(data=0.11390785298202094, grad=0), Value(data=0.08786451090442841, grad=0)], [Value(data=0.0743548887207074, grad=0), Value(data=0.10935638160788042, grad=0), Value(data=0.09038765100851753, grad=0), Value(data=0.08692916054320168, grad=0), Value(data=0.17940157198784637, grad=0), Value(data=0.08359316617388583, grad=0), Value(data=0.116763988852505, grad=0), Value(data=0.05743919379941423, grad=0), Value(data=0.11390952053424075, grad=0), Value(data=0.08786447677180062, grad=0)], [Value(data=0.07435662579880548, grad=0), Value(data=0.10935378571040613, grad=0), Value(data=0.09038740332649195, grad=0), Value(data=0.08692934100162004, grad=0), Value(data=0.17940468124820833, grad=0), Value(data=0.08359375960846377, grad=0), Value(data=0.11676047593753823, grad=0), Value(data=0.057443024939417574, grad=0), Value(data=0.11390636098538712, grad=0), Value(data=0.0878645414436614, grad=0)], [Value(data=0.07436066936406367, grad=0), Value(data=0.10934774298794434, grad=0), Value(data=0.09038682677300543, grad=0), Value(data=0.08692976107219247, grad=0), Value(data=0.1794119189752813, grad=0), Value(data=0.08359514100371881, grad=0), Value(data=0.11675229858447005, grad=0), Value(data=0.05745194305578449, grad=0), Value(data=0.11389900619691176, grad=0), Value(data=0.08786469198662764, grad=0)], [Value(data=0.07435517898387632, grad=0), Value(data=0.10935594783726994, grad=0), Value(data=0.09038760962121911, grad=0), Value(data=0.08692919069753524, grad=0), Value(data=0.17940209154063258, grad=0), Value(data=0.08359326533592198, grad=0), Value(data=0.1167634018496342, grad=0), Value(data=0.05743983397721578, grad=0), Value(data=0.11390899257832238, grad=0), Value(data=0.08786448757837245, grad=0)]]\n",
            "total loss: Value(data=0.16042417222857497, grad=1)\n"
          ]
        }
      ]
    },
    {
      "cell_type": "code",
      "source": [
        "print('model total parameters',len(model.parameters()))\n",
        "# in_inputs\n",
        "layer_len = len(model.layers)\n",
        "print('layer length',layer_len)\n",
        "# print('in_inputs',in_inputs)\n",
        "# print('length of parameters',len(model.layers[layer_len-4].parameters()))\n",
        "# counter = 0\n",
        "# for l in range(len(model.layers):\n",
        "#   if(p.grad != 0):\n",
        "#     print('counter',counter)\n",
        "#     print('p ', p)\n",
        "#   counter += 1\n",
        "for l in range(len(model.layers)):\n",
        "  print(f'Layer {l}')\n",
        "  for p in model.layers[l].parameters():\n",
        "    print('p',p)"
      ],
      "metadata": {
        "colab": {
          "base_uri": "https://localhost:8080/"
        },
        "id": "9BQBi4r2KwZu",
        "outputId": "e83022ef-51f3-4894-b9e9-06b065c80869"
      },
      "execution_count": 48,
      "outputs": [
        {
          "output_type": "stream",
          "name": "stdout",
          "text": [
            "model total parameters 40\n",
            "layer length 2\n",
            "Layer 0\n",
            "p Value(data=0.3654248334954173, grad=0.0)\n",
            "p Value(data=-0.4374068669121398, grad=0.0)\n",
            "p Value(data=-0.8555745462165814, grad=0.0)\n",
            "p Value(data=-0.9496480928712234, grad=0.0)\n",
            "p Value(data=0, grad=0.0)\n",
            "p Value(data=-0.5086089169313228, grad=5.745404152435185e-15)\n",
            "p Value(data=0.8058789569529698, grad=1.1379786002407855e-14)\n",
            "p Value(data=-0.12017622482722823, grad=9.270362255620057e-15)\n",
            "p Value(data=-0.6389466672066417, grad=6.2450045135165055e-15)\n",
            "p Value(data=0, grad=1.942890293094024e-16)\n",
            "Layer 1\n",
            "p Value(data=0.2851531415759261, grad=0.0)\n",
            "p Value(data=0.5779119841823439, grad=-16.193038476581734)\n",
            "p Value(data=0, grad=-1.4408680209647295)\n",
            "p Value(data=0.030763850698566575, grad=0.0)\n",
            "p Value(data=-0.7234122934672151, grad=-16.193038476581734)\n",
            "p Value(data=0, grad=-1.4408680209647295)\n",
            "p Value(data=-0.848132684255062, grad=0.0)\n",
            "p Value(data=-0.04388960273528686, grad=-16.193038476581734)\n",
            "p Value(data=0, grad=-1.4408680209647295)\n",
            "p Value(data=0.7352558441309898, grad=0.0)\n",
            "p Value(data=0.15517150222807108, grad=-16.193038476581734)\n",
            "p Value(data=0, grad=-1.4408680209647295)\n",
            "p Value(data=-0.5019978680000179, grad=0.0)\n",
            "p Value(data=0.4768361512534742, grad=-8.587572353112424)\n",
            "p Value(data=0, grad=-0.7641282640818202)\n",
            "p Value(data=0.48405372699803917, grad=0.0)\n",
            "p Value(data=-0.1689058744699039, grad=-16.193038476581734)\n",
            "p Value(data=0, grad=-1.4408680209647295)\n",
            "p Value(data=-0.3565075714869015, grad=0.0)\n",
            "p Value(data=-0.26396186461101, grad=-16.193038476581734)\n",
            "p Value(data=0, grad=-1.4408680209647295)\n",
            "p Value(data=-0.49663513311351903, grad=0.0)\n",
            "p Value(data=-0.13519878440924926, grad=-16.193038476581734)\n",
            "p Value(data=0, grad=-1.4408680209647295)\n",
            "p Value(data=-0.5122030691123258, grad=0.0)\n",
            "p Value(data=0.6767873254426542, grad=-16.193038476581734)\n",
            "p Value(data=0, grad=-1.4408680209647295)\n",
            "p Value(data=0.3148266711155663, grad=0.0)\n",
            "p Value(data=-0.32738050119416173, grad=-16.193038476581734)\n",
            "p Value(data=0, grad=-1.4408680209647295)\n"
          ]
        }
      ]
    }
  ]
}