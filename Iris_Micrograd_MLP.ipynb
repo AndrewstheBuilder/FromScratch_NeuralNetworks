{
  "nbformat": 4,
  "nbformat_minor": 0,
  "metadata": {
    "colab": {
      "provenance": [],
      "authorship_tag": "ABX9TyNFkFVEleaxTDJuV3pWTfGK",
      "include_colab_link": true
    },
    "kernelspec": {
      "name": "python3",
      "display_name": "Python 3"
    },
    "language_info": {
      "name": "python"
    }
  },
  "cells": [
    {
      "cell_type": "markdown",
      "metadata": {
        "id": "view-in-github",
        "colab_type": "text"
      },
      "source": [
        "<a href=\"https://colab.research.google.com/github/AndrewstheBuilder/ScratchNeuralNetworks/blob/main/Iris_Micrograd_MLP.ipynb\" target=\"_parent\"><img src=\"https://colab.research.google.com/assets/colab-badge.svg\" alt=\"Open In Colab\"/></a>"
      ]
    },
    {
      "cell_type": "code",
      "execution_count": null,
      "metadata": {
        "id": "VKKg7oHwBclr"
      },
      "outputs": [],
      "source": [
        "# Load the Iris Dataset\n"
      ]
    },
    {
      "cell_type": "code",
      "source": [
        "# Do preprocessing"
      ],
      "metadata": {
        "id": "PLFh7xBlBiuD"
      },
      "execution_count": null,
      "outputs": []
    },
    {
      "cell_type": "code",
      "source": [
        "# Write your custom Micrograd MLP to solve the Iris dataset."
      ],
      "metadata": {
        "id": "NVDDCukmBkKa"
      },
      "execution_count": null,
      "outputs": []
    }
  ]
}