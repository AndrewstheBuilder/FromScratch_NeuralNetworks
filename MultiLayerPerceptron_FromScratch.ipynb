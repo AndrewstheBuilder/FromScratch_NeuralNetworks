{
  "nbformat": 4,
  "nbformat_minor": 0,
  "metadata": {
    "colab": {
      "provenance": [],
      "authorship_tag": "ABX9TyOyzH/fDxAsXHtWeopRhSpc",
      "include_colab_link": true
    },
    "kernelspec": {
      "name": "python3",
      "display_name": "Python 3"
    },
    "language_info": {
      "name": "python"
    }
  },
  "cells": [
    {
      "cell_type": "markdown",
      "metadata": {
        "id": "view-in-github",
        "colab_type": "text"
      },
      "source": [
        "<a href=\"https://colab.research.google.com/github/AndrewstheBuilder/FromScratch_NeuralNetworks/blob/main/MultiLayerPerceptron_FromScratch.ipynb\" target=\"_parent\"><img src=\"https://colab.research.google.com/assets/colab-badge.svg\" alt=\"Open In Colab\"/></a>"
      ]
    },
    {
      "cell_type": "code",
      "execution_count": 1,
      "metadata": {
        "id": "abCvfU8HHVKh"
      },
      "outputs": [],
      "source": [
        "import numpy as np\n",
        "import matplotlib.pyplot as plt\n",
        "\n",
        "from sklearn.datasets import make_classification\n",
        "from sklearn.neural_network import MLPClassifier"
      ]
    },
    {
      "cell_type": "code",
      "source": [
        "# Display Dataset to Train\n",
        "\n",
        "plt.figure(figsize=(8, 8))\n",
        "plt.subplots_adjust(bottom=0.05, top=0.9, left=0.05, right=0.95)\n",
        "\n",
        "plt.subplot(321)\n",
        "plt.title(\"One informative feature, one cluster per class\", fontsize=\"small\")\n",
        "X1, Y1 = make_classification(\n",
        "    n_features=2, n_redundant=0, n_informative=1, n_clusters_per_class=1\n",
        ")\n",
        "plt.scatter(X1[:, 0], X1[:, 1], marker=\"o\", c=Y1, s=25, edgecolor=\"k\")\n",
        "\n",
        "# Import Dataset to Train\n",
        "train_length = int(len(X1) * 0.8)\n",
        "test_length = len(X1) - train_length\n",
        "train_x, test_x, train_y, test_y = X1[0:train_length], X1[train_length:], Y1[0:train_length], Y1[train_length:]\n",
        "# print(train_x.shape, test_x.shape, train_y.shape, test_y.shape)"
      ],
      "metadata": {
        "colab": {
          "base_uri": "https://localhost:8080/",
          "height": 299
        },
        "id": "m9FWiRmlJPlG",
        "outputId": "4d43da32-c0c6-4f07-c17a-12a0ffd3dbbe"
      },
      "execution_count": 2,
      "outputs": [
        {
          "output_type": "display_data",
          "data": {
            "text/plain": [
              "<Figure size 800x800 with 1 Axes>"
            ],
            "image/png": "[encoded data removed]"
          },
          "metadata": {}
        }
      ]
    },
    {
      "cell_type": "code",
      "source": [
        "# Multi Layer Perceptron Implementation\n",
        "class Neuron:\n",
        "  def __init__(self, weights, bias):\n",
        "    self.weights = weights\n",
        "    self.bias = bias\n",
        "\n",
        "  def feedforward(self, inputs):\n",
        "    total = np.dot(self.weights, inputs) + self.bias\n",
        "    return total\n",
        "\n",
        "class MLP:\n",
        "  def __init__():\n",
        "    '''\n",
        "    '''\n",
        "    pass\n",
        "\n",
        "  def train():\n",
        "    '''\n",
        "    '''\n",
        "    pass\n",
        "\n",
        "  def predict():\n",
        "    '''\n",
        "    '''\n",
        "    pass\n",
        "def relu(x):\n",
        "  if(x<1):\n",
        "    return 0\n",
        "  return 1"
      ],
      "metadata": {
        "id": "c1WHEoAKJLGE"
      },
      "execution_count": 28,
      "outputs": []
    },
    {
      "cell_type": "markdown",
      "source": [
        "# First Attempt at solving this dataset with MLP"
      ],
      "metadata": {
        "id": "XidF0ecChq23"
      }
    },
    {
      "cell_type": "markdown",
      "source": [
        "- I can attempt to solve this as a regression problem first\n",
        "- Take in X and try to predict the Y for the 100 examples of [Xi, Yi] that I have. It will find the line separating the two classes I believe!\n",
        "- And after that I can try it as a classification problem.\n",
        "- Then solve the MNIST dataset with my MLP\n",
        "- Then try to do it with a different architecture like KANs"
      ],
      "metadata": {
        "id": "feASuLx6hKDn"
      }
    },
    {
      "cell_type": "markdown",
      "source": [
        "### Draft 1: Has backpropagation for learning but its adjusting the weights and biases without taking into account the error and what direction we should be adjusting the weights in.\n",
        "- This setup allows the ML algorithm to learn any linear 2 variable function."
      ],
      "metadata": {
        "id": "HqmxR-pejrmr"
      }
    },
    {
      "cell_type": "code",
      "source": [
        "weights = [1,1]\n",
        "bias = 1\n",
        "# n = Neuron(weights, None)\n",
        "m = len(train_x)\n",
        "iterations = 500\n",
        "for n in range(iterations):\n",
        "  for i in range(m):\n",
        "    x1 = train_x[i][0]\n",
        "    x2 = train_x[i][1]\n",
        "    output = weights[0]*x1 + weights[1]*x2+ bias\n",
        "    # Perform Loss Calculation\n",
        "    error = (train_y[i] - output)\n",
        "    # print('train_y[i]',train_y[i])\n",
        "    # print('output',output)\n",
        "    # Perform Back propagation to adjust the weight and bias\n",
        "    weights[0] += -1 * x1\n",
        "    weights[1] += -1 * x2\n",
        "    bias += -1\n",
        "  if(n%100 == 0):\n",
        "    print('n:'+str(n)+' error:'+str(error))\n",
        "# print(n)\n",
        "# This implementation has the problem of exploding weights.\n",
        "# I believe its because we are not taking into account the error. So we are adjusting\n",
        "# the weight in the wrong direction"
      ],
      "metadata": {
        "colab": {
          "base_uri": "https://localhost:8080/"
        },
        "id": "_ScwwWbCg5eB",
        "outputId": "f2f28729-f8d7-4d5d-9142-ffa4cfb2a001"
      },
      "execution_count": 19,
      "outputs": [
        {
          "output_type": "stream",
          "name": "stdout",
          "text": [
            "n:0 error:64.80613850000725\n",
            "n:100 error:6736.202614332903\n",
            "n:200 error:13407.599090165793\n",
            "n:300 error:20078.99556599872\n",
            "n:400 error:26750.39204183172\n"
          ]
        }
      ]
    },
    {
      "cell_type": "markdown",
      "source": [
        "### Draft 2"
      ],
      "metadata": {
        "id": "b38CRZRwjvIx"
      }
    },
    {
      "cell_type": "code",
      "source": [
        "weights = [1,1]\n",
        "bias = 1\n",
        "# n = Neuron(weights, None)\n",
        "m = len(train_x)\n",
        "iterations = 50\n",
        "lr = 0.001\n",
        "for n in range(iterations):\n",
        "  for i in range(m):\n",
        "    x1 = train_x[i][0]\n",
        "    x2 = train_x[i][1]\n",
        "    output = weights[0]*x1 + weights[1]*x2+bias\n",
        "    output_relu = relu(output)\n",
        "    # Perform Loss Calculation\n",
        "    error = (train_y[i] - output_relu)\n",
        "    # print('error',error)\n",
        "    # print('train_y[i]',train_y[i])\n",
        "    # print(weights)\n",
        "    # print('output',output_relu)\n",
        "    # Perform Back propagation to adjust the weight and bias\n",
        "    # TODO Account for relu in backprop!\n",
        "    weights[0] -= -1 * x1 * lr * error\n",
        "    weights[1] -= -1 * x2 * lr * error\n",
        "    bias += -1 * lr * error\n",
        "  if(n%100 == 0):\n",
        "    print('n:'+str(n)+' error:'+str(error))\n",
        "# print(n)"
      ],
      "metadata": {
        "colab": {
          "base_uri": "https://localhost:8080/"
        },
        "id": "OWr_7YY8jucj",
        "outputId": "025240f6-0f5e-45c7-fba7-0a561c56dcb6"
      },
      "execution_count": 58,
      "outputs": [
        {
          "output_type": "stream",
          "name": "stdout",
          "text": [
            "n:0 error:0\n"
          ]
        }
      ]
    },
    {
      "cell_type": "markdown",
      "source": [
        "## Using existing SKlearn MLP Implementation"
      ],
      "metadata": {
        "id": "9Cfe75y9eQYq"
      }
    },
    {
      "cell_type": "code",
      "source": [
        "clf = MLPClassifier(random_state=1, max_iter=1000, hidden_layer_sizes=(1,)).fit(train_x, train_y)"
      ],
      "metadata": {
        "id": "o286CC1tc6-o"
      },
      "execution_count": 49,
      "outputs": []
    },
    {
      "cell_type": "code",
      "source": [
        "clf.score(test_x, test_y)"
      ],
      "metadata": {
        "colab": {
          "base_uri": "https://localhost:8080/"
        },
        "id": "mj3ffkpreJAn",
        "outputId": "7b8b6204-35e5-41fe-fbe8-a80f5f092c47"
      },
      "execution_count": 50,
      "outputs": [
        {
          "output_type": "execute_result",
          "data": {
            "text/plain": [
              "0.45"
            ]
          },
          "metadata": {},
          "execution_count": 50
        }
      ]
    },
    {
      "cell_type": "code",
      "source": [
        "clf.predict(test_x)"
      ],
      "metadata": {
        "colab": {
          "base_uri": "https://localhost:8080/"
        },
        "id": "JBn-tbvid0Dt",
        "outputId": "874a54f0-32ac-4c28-b15a-be5b34436629"
      },
      "execution_count": 51,
      "outputs": [
        {
          "output_type": "execute_result",
          "data": {
            "text/plain": [
              "array([0, 0, 0, 0, 0, 0, 0, 0, 0, 0, 0, 0, 0, 0, 0, 0, 0, 0, 0, 0])"
            ]
          },
          "metadata": {},
          "execution_count": 51
        }
      ]
    },
    {
      "cell_type": "code",
      "source": [
        "print('test_y',test_y)"
      ],
      "metadata": {
        "colab": {
          "base_uri": "https://localhost:8080/"
        },
        "id": "kK_SPg9CeC_x",
        "outputId": "695e9195-b8af-4b0d-870a-a8cc75819eec"
      },
      "execution_count": 52,
      "outputs": [
        {
          "output_type": "stream",
          "name": "stdout",
          "text": [
            "test_y [1 1 1 0 0 0 1 1 1 0 0 0 1 1 1 1 1 0 0 0]\n"
          ]
        }
      ]
    }
  ]
}